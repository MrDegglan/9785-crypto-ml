{
  "nbformat": 4,
  "nbformat_minor": 0,
  "metadata": {
    "colab": {
      "provenance": [],
      "collapsed_sections": [],
      "mount_file_id": "1x88vgq2xlyMvwgApaZo3QXv1rZcXF1Fz",
      "authorship_tag": "ABX9TyNdqvmnE34By40Am31uV7uW",
      "include_colab_link": true
    },
    "kernelspec": {
      "name": "python3",
      "display_name": "Python 3"
    },
    "language_info": {
      "name": "python"
    },
    "gpuClass": "standard"
  },
  "cells": [
    {
      "cell_type": "markdown",
      "metadata": {
        "id": "view-in-github",
        "colab_type": "text"
      },
      "source": [
        "<a href=\"https://colab.research.google.com/github/MrDegglan/9785-crypto-ml/blob/Raouf-Younes/ML_Main.ipynb\" target=\"_parent\"><img src=\"https://colab.research.google.com/assets/colab-badge.svg\" alt=\"Open In Colab\"/></a>"
      ]
    },
    {
      "cell_type": "markdown",
      "source": [
        "# Library Import\n",
        "https://trello.com/b/8l8sGsy8/project-proposal"
      ],
      "metadata": {
        "id": "eFspcwLdvEia"
      }
    },
    {
      "cell_type": "code",
      "execution_count": 1,
      "metadata": {
        "id": "HUF6F3ZgRr2a",
        "colab": {
          "base_uri": "https://localhost:8080/"
        },
        "outputId": "feb2ccbc-d12f-4f91-f630-d0e3a44b87ee"
      },
      "outputs": [
        {
          "output_type": "stream",
          "name": "stdout",
          "text": [
            "Looking in indexes: https://pypi.org/simple, https://us-python.pkg.dev/colab-wheels/public/simple/\n",
            "Requirement already satisfied: cryptocmd in /usr/local/lib/python3.7/dist-packages (0.6.1)\n",
            "Requirement already satisfied: tablib in /usr/local/lib/python3.7/dist-packages (from cryptocmd) (3.2.1)\n",
            "Requirement already satisfied: requests in /usr/local/lib/python3.7/dist-packages (from cryptocmd) (2.23.0)\n",
            "Requirement already satisfied: idna<3,>=2.5 in /usr/local/lib/python3.7/dist-packages (from requests->cryptocmd) (2.10)\n",
            "Requirement already satisfied: chardet<4,>=3.0.2 in /usr/local/lib/python3.7/dist-packages (from requests->cryptocmd) (3.0.4)\n",
            "Requirement already satisfied: certifi>=2017.4.17 in /usr/local/lib/python3.7/dist-packages (from requests->cryptocmd) (2022.6.15)\n",
            "Requirement already satisfied: urllib3!=1.25.0,!=1.25.1,<1.26,>=1.21.1 in /usr/local/lib/python3.7/dist-packages (from requests->cryptocmd) (1.24.3)\n"
          ]
        }
      ],
      "source": [
        "!pip install cryptocmd\n",
        "\n",
        "# !pip install numpy\n",
        "# !pip install pandas\n",
        "# !pip install -U scikit-learn\n",
        "# !pip install matplotlib\n",
        "\n",
        "# jupyter notebook   --NotebookApp.allow_origin='https://colab.research.google.com'   --port=8888   --NotebookApp.port_retries=0"
      ]
    },
    {
      "cell_type": "markdown",
      "source": [
        "tabular vs multidimensional\n",
        "\n",
        "pandas used for tabular data, statistics \n",
        "\n",
        "numpy used for multidimentional like images"
      ],
      "metadata": {
        "id": "tdMZfD4xfbqB"
      }
    },
    {
      "cell_type": "code",
      "source": [
        "# Library for crypto currency prediction\n",
        "from cryptocmd import CmcScraper\n",
        "\n",
        "# Dependency for pandas, provides arrays, < 50K\n",
        "import numpy as np\n",
        "\n",
        "# adds support for DataFrames, > 500K\n",
        "import pandas as pd\n",
        "\n",
        "# MinMaxScalar normalises numeric data between 0 and 1 for the purpose of ML training\n",
        "from sklearn.preprocessing import StandardScaler, MinMaxScaler, scale\n",
        "from sklearn.preprocessing import LabelEncoder\n",
        "\n",
        "# Used for making a train and test split\n",
        "from sklearn.model_selection import train_test_split\n",
        "\n",
        "# If training new models set TRAINING to true\n",
        "TRAINING = True\n",
        "\n",
        "# If running on local machine set LOCAL to true, Neccessary for training.\n",
        "LOCAL = True\n",
        "\n",
        "# Hourly Data Source\n",
        "HOURLY = False"
      ],
      "metadata": {
        "id": "31e0sFAiv1Sx"
      },
      "execution_count": 2,
      "outputs": []
    },
    {
      "cell_type": "code",
      "source": [
        "if(LOCAL):\n",
        "  model_simple_path = './Models/RNN_LSTM_SIMPLE/'\n",
        "  model_complex_path = './Models/RNN_LSTM_COMPLEX/'\n",
        "  gru_base_path = './Models/RNN_GRU_BASE/'\n",
        "else:\n",
        "  from google.colab import drive\n",
        "  drive.mount('/content/drive')\n",
        "\n",
        "  model_simple_path = '/content/drive/MyDrive/9785 Colab Notebooks/Ml_Models/RNN_LSTM_SIMPLE/'\n",
        "  model_complex_path = '/content/drive/MyDrive/9785 Colab Notebooks/Ml_Models/RNN_LSTM_COMPLEX/'\n",
        "  gru_base_path = '/content/drive/MyDrive/9785 Colab Notebooks/Ml_Models/RNN_GRU_BASE/'\n"
      ],
      "metadata": {
        "id": "NfJcu00md6nA"
      },
      "execution_count": 3,
      "outputs": []
    },
    {
      "cell_type": "markdown",
      "source": [
        "# Data Download and preperation"
      ],
      "metadata": {
        "id": "x8TC-rIHqLL6"
      }
    },
    {
      "cell_type": "code",
      "source": [
        "# Data Import\n",
        "if(HOURLY):\n",
        "  data = pd.read_csv('/content/drive/MyDrive/9785 Colab Notebooks/Data/Gemini_BTCUSD_1h.csv',skiprows=1)\n",
        "  data.columns = [x.strip().lower().replace(' ','_') for x in data.columns]\n",
        "  display(data)\n",
        "else:\n",
        "  # ==============================================================================\n",
        "  # Scraper is initialized, symbol, start and end of download are included\n",
        "  scraper = CmcScraper('BTC', '28-04-2013', '24-08-2022')\n",
        "  # Transform collected data into a dataframe\n",
        "  data = scraper.get_dataframe()\n",
        "  data.columns = [x.strip().lower().replace(' ','_') for x in data.columns]\n",
        "  display(data)"
      ],
      "metadata": {
        "colab": {
          "base_uri": "https://localhost:8080/",
          "height": 423
        },
        "id": "H477R2Ymv3k_",
        "outputId": "615531d7-7b27-4563-9a4d-929fcf86d266"
      },
      "execution_count": 4,
      "outputs": [
        {
          "output_type": "display_data",
          "data": {
            "text/plain": [
              "           date          open          high           low         close  \\\n",
              "0    2022-08-24  21526.455593  21783.075723  21195.006695  21395.020071   \n",
              "1    2022-08-23  21401.045670  21646.203762  20955.138156  21528.087372   \n",
              "2    2022-08-22  21531.463849  21531.463849  20939.184173  21398.908350   \n",
              "3    2022-08-21  21160.392783  21668.845908  21103.196808  21534.121231   \n",
              "4    2022-08-20  20872.842174  21350.806299  20856.731336  21166.060396   \n",
              "...         ...           ...           ...           ...           ...   \n",
              "3401 2013-05-02    116.379997    125.599998     92.281898    105.209999   \n",
              "3402 2013-05-01    139.000000    139.889999    107.720001    116.989998   \n",
              "3403 2013-04-30    144.000000    146.929993    134.050003    139.000000   \n",
              "3404 2013-04-29    134.444000    147.488007    134.000000    144.539993   \n",
              "3405 2013-04-28    135.300003    135.979996    132.100006    134.210007   \n",
              "\n",
              "            volume    market_cap  \n",
              "0     3.196225e+10  4.093085e+11  \n",
              "1     3.187828e+10  4.118332e+11  \n",
              "2     3.166650e+10  4.093401e+11  \n",
              "3     2.310231e+10  4.119067e+11  \n",
              "4     2.759567e+10  4.048481e+11  \n",
              "...            ...           ...  \n",
              "3401  0.000000e+00  1.168517e+09  \n",
              "3402  0.000000e+00  1.298955e+09  \n",
              "3403  0.000000e+00  1.542813e+09  \n",
              "3404  0.000000e+00  1.603769e+09  \n",
              "3405  0.000000e+00  1.488567e+09  \n",
              "\n",
              "[3406 rows x 7 columns]"
            ],
            "text/html": [
              "\n",
              "  <div id=\"df-aeb798ca-6c8d-4eec-9d51-bb18af7b42f3\">\n",
              "    <div class=\"colab-df-container\">\n",
              "      <div>\n",
              "<style scoped>\n",
              "    .dataframe tbody tr th:only-of-type {\n",
              "        vertical-align: middle;\n",
              "    }\n",
              "\n",
              "    .dataframe tbody tr th {\n",
              "        vertical-align: top;\n",
              "    }\n",
              "\n",
              "    .dataframe thead th {\n",
              "        text-align: right;\n",
              "    }\n",
              "</style>\n",
              "<table border=\"1\" class=\"dataframe\">\n",
              "  <thead>\n",
              "    <tr style=\"text-align: right;\">\n",
              "      <th></th>\n",
              "      <th>date</th>\n",
              "      <th>open</th>\n",
              "      <th>high</th>\n",
              "      <th>low</th>\n",
              "      <th>close</th>\n",
              "      <th>volume</th>\n",
              "      <th>market_cap</th>\n",
              "    </tr>\n",
              "  </thead>\n",
              "  <tbody>\n",
              "    <tr>\n",
              "      <th>0</th>\n",
              "      <td>2022-08-24</td>\n",
              "      <td>21526.455593</td>\n",
              "      <td>21783.075723</td>\n",
              "      <td>21195.006695</td>\n",
              "      <td>21395.020071</td>\n",
              "      <td>3.196225e+10</td>\n",
              "      <td>4.093085e+11</td>\n",
              "    </tr>\n",
              "    <tr>\n",
              "      <th>1</th>\n",
              "      <td>2022-08-23</td>\n",
              "      <td>21401.045670</td>\n",
              "      <td>21646.203762</td>\n",
              "      <td>20955.138156</td>\n",
              "      <td>21528.087372</td>\n",
              "      <td>3.187828e+10</td>\n",
              "      <td>4.118332e+11</td>\n",
              "    </tr>\n",
              "    <tr>\n",
              "      <th>2</th>\n",
              "      <td>2022-08-22</td>\n",
              "      <td>21531.463849</td>\n",
              "      <td>21531.463849</td>\n",
              "      <td>20939.184173</td>\n",
              "      <td>21398.908350</td>\n",
              "      <td>3.166650e+10</td>\n",
              "      <td>4.093401e+11</td>\n",
              "    </tr>\n",
              "    <tr>\n",
              "      <th>3</th>\n",
              "      <td>2022-08-21</td>\n",
              "      <td>21160.392783</td>\n",
              "      <td>21668.845908</td>\n",
              "      <td>21103.196808</td>\n",
              "      <td>21534.121231</td>\n",
              "      <td>2.310231e+10</td>\n",
              "      <td>4.119067e+11</td>\n",
              "    </tr>\n",
              "    <tr>\n",
              "      <th>4</th>\n",
              "      <td>2022-08-20</td>\n",
              "      <td>20872.842174</td>\n",
              "      <td>21350.806299</td>\n",
              "      <td>20856.731336</td>\n",
              "      <td>21166.060396</td>\n",
              "      <td>2.759567e+10</td>\n",
              "      <td>4.048481e+11</td>\n",
              "    </tr>\n",
              "    <tr>\n",
              "      <th>...</th>\n",
              "      <td>...</td>\n",
              "      <td>...</td>\n",
              "      <td>...</td>\n",
              "      <td>...</td>\n",
              "      <td>...</td>\n",
              "      <td>...</td>\n",
              "      <td>...</td>\n",
              "    </tr>\n",
              "    <tr>\n",
              "      <th>3401</th>\n",
              "      <td>2013-05-02</td>\n",
              "      <td>116.379997</td>\n",
              "      <td>125.599998</td>\n",
              "      <td>92.281898</td>\n",
              "      <td>105.209999</td>\n",
              "      <td>0.000000e+00</td>\n",
              "      <td>1.168517e+09</td>\n",
              "    </tr>\n",
              "    <tr>\n",
              "      <th>3402</th>\n",
              "      <td>2013-05-01</td>\n",
              "      <td>139.000000</td>\n",
              "      <td>139.889999</td>\n",
              "      <td>107.720001</td>\n",
              "      <td>116.989998</td>\n",
              "      <td>0.000000e+00</td>\n",
              "      <td>1.298955e+09</td>\n",
              "    </tr>\n",
              "    <tr>\n",
              "      <th>3403</th>\n",
              "      <td>2013-04-30</td>\n",
              "      <td>144.000000</td>\n",
              "      <td>146.929993</td>\n",
              "      <td>134.050003</td>\n",
              "      <td>139.000000</td>\n",
              "      <td>0.000000e+00</td>\n",
              "      <td>1.542813e+09</td>\n",
              "    </tr>\n",
              "    <tr>\n",
              "      <th>3404</th>\n",
              "      <td>2013-04-29</td>\n",
              "      <td>134.444000</td>\n",
              "      <td>147.488007</td>\n",
              "      <td>134.000000</td>\n",
              "      <td>144.539993</td>\n",
              "      <td>0.000000e+00</td>\n",
              "      <td>1.603769e+09</td>\n",
              "    </tr>\n",
              "    <tr>\n",
              "      <th>3405</th>\n",
              "      <td>2013-04-28</td>\n",
              "      <td>135.300003</td>\n",
              "      <td>135.979996</td>\n",
              "      <td>132.100006</td>\n",
              "      <td>134.210007</td>\n",
              "      <td>0.000000e+00</td>\n",
              "      <td>1.488567e+09</td>\n",
              "    </tr>\n",
              "  </tbody>\n",
              "</table>\n",
              "<p>3406 rows × 7 columns</p>\n",
              "</div>\n",
              "      <button class=\"colab-df-convert\" onclick=\"convertToInteractive('df-aeb798ca-6c8d-4eec-9d51-bb18af7b42f3')\"\n",
              "              title=\"Convert this dataframe to an interactive table.\"\n",
              "              style=\"display:none;\">\n",
              "        \n",
              "  <svg xmlns=\"http://www.w3.org/2000/svg\" height=\"24px\"viewBox=\"0 0 24 24\"\n",
              "       width=\"24px\">\n",
              "    <path d=\"M0 0h24v24H0V0z\" fill=\"none\"/>\n",
              "    <path d=\"M18.56 5.44l.94 2.06.94-2.06 2.06-.94-2.06-.94-.94-2.06-.94 2.06-2.06.94zm-11 1L8.5 8.5l.94-2.06 2.06-.94-2.06-.94L8.5 2.5l-.94 2.06-2.06.94zm10 10l.94 2.06.94-2.06 2.06-.94-2.06-.94-.94-2.06-.94 2.06-2.06.94z\"/><path d=\"M17.41 7.96l-1.37-1.37c-.4-.4-.92-.59-1.43-.59-.52 0-1.04.2-1.43.59L10.3 9.45l-7.72 7.72c-.78.78-.78 2.05 0 2.83L4 21.41c.39.39.9.59 1.41.59.51 0 1.02-.2 1.41-.59l7.78-7.78 2.81-2.81c.8-.78.8-2.07 0-2.86zM5.41 20L4 18.59l7.72-7.72 1.47 1.35L5.41 20z\"/>\n",
              "  </svg>\n",
              "      </button>\n",
              "      \n",
              "  <style>\n",
              "    .colab-df-container {\n",
              "      display:flex;\n",
              "      flex-wrap:wrap;\n",
              "      gap: 12px;\n",
              "    }\n",
              "\n",
              "    .colab-df-convert {\n",
              "      background-color: #E8F0FE;\n",
              "      border: none;\n",
              "      border-radius: 50%;\n",
              "      cursor: pointer;\n",
              "      display: none;\n",
              "      fill: #1967D2;\n",
              "      height: 32px;\n",
              "      padding: 0 0 0 0;\n",
              "      width: 32px;\n",
              "    }\n",
              "\n",
              "    .colab-df-convert:hover {\n",
              "      background-color: #E2EBFA;\n",
              "      box-shadow: 0px 1px 2px rgba(60, 64, 67, 0.3), 0px 1px 3px 1px rgba(60, 64, 67, 0.15);\n",
              "      fill: #174EA6;\n",
              "    }\n",
              "\n",
              "    [theme=dark] .colab-df-convert {\n",
              "      background-color: #3B4455;\n",
              "      fill: #D2E3FC;\n",
              "    }\n",
              "\n",
              "    [theme=dark] .colab-df-convert:hover {\n",
              "      background-color: #434B5C;\n",
              "      box-shadow: 0px 1px 3px 1px rgba(0, 0, 0, 0.15);\n",
              "      filter: drop-shadow(0px 1px 2px rgba(0, 0, 0, 0.3));\n",
              "      fill: #FFFFFF;\n",
              "    }\n",
              "  </style>\n",
              "\n",
              "      <script>\n",
              "        const buttonEl =\n",
              "          document.querySelector('#df-aeb798ca-6c8d-4eec-9d51-bb18af7b42f3 button.colab-df-convert');\n",
              "        buttonEl.style.display =\n",
              "          google.colab.kernel.accessAllowed ? 'block' : 'none';\n",
              "\n",
              "        async function convertToInteractive(key) {\n",
              "          const element = document.querySelector('#df-aeb798ca-6c8d-4eec-9d51-bb18af7b42f3');\n",
              "          const dataTable =\n",
              "            await google.colab.kernel.invokeFunction('convertToInteractive',\n",
              "                                                     [key], {});\n",
              "          if (!dataTable) return;\n",
              "\n",
              "          const docLinkHtml = 'Like what you see? Visit the ' +\n",
              "            '<a target=\"_blank\" href=https://colab.research.google.com/notebooks/data_table.ipynb>data table notebook</a>'\n",
              "            + ' to learn more about interactive tables.';\n",
              "          element.innerHTML = '';\n",
              "          dataTable['output_type'] = 'display_data';\n",
              "          await google.colab.output.renderOutput(dataTable, element);\n",
              "          const docLink = document.createElement('div');\n",
              "          docLink.innerHTML = docLinkHtml;\n",
              "          element.appendChild(docLink);\n",
              "        }\n",
              "      </script>\n",
              "    </div>\n",
              "  </div>\n",
              "  "
            ]
          },
          "metadata": {}
        }
      ]
    },
    {
      "cell_type": "code",
      "source": [
        "data['date'] = pd.to_datetime(data['date'], format='%Y-%m-%d %H:%M:%S')#.astype(int) / 10**9\n",
        "data['hour'] = data['date'].dt.hour\n",
        "data['day'] = data['date'].dt.day\n",
        "data['month'] = data['date'].dt.month\n",
        "data['year'] = data['date'].dt.year\n",
        "data = data.drop(['date','unix','symbol'], axis=1,errors='ignore')\n",
        "\n",
        "with pd.option_context('display.max_rows', None, 'display.max_columns', None):\n",
        "  display(data.head(5))\n",
        "  print(len(data))"
      ],
      "metadata": {
        "colab": {
          "base_uri": "https://localhost:8080/",
          "height": 224
        },
        "id": "jOzAvoTa1t9x",
        "outputId": "49eda703-21d6-44c4-cbe9-67fd090957ac"
      },
      "execution_count": 5,
      "outputs": [
        {
          "output_type": "display_data",
          "data": {
            "text/plain": [
              "           open          high           low         close        volume  \\\n",
              "0  21526.455593  21783.075723  21195.006695  21395.020071  3.196225e+10   \n",
              "1  21401.045670  21646.203762  20955.138156  21528.087372  3.187828e+10   \n",
              "2  21531.463849  21531.463849  20939.184173  21398.908350  3.166650e+10   \n",
              "3  21160.392783  21668.845908  21103.196808  21534.121231  2.310231e+10   \n",
              "4  20872.842174  21350.806299  20856.731336  21166.060396  2.759567e+10   \n",
              "\n",
              "     market_cap  hour  day  month  year  \n",
              "0  4.093085e+11     0   24      8  2022  \n",
              "1  4.118332e+11     0   23      8  2022  \n",
              "2  4.093401e+11     0   22      8  2022  \n",
              "3  4.119067e+11     0   21      8  2022  \n",
              "4  4.048481e+11     0   20      8  2022  "
            ],
            "text/html": [
              "\n",
              "  <div id=\"df-863080f5-4354-4ab6-9380-266482422639\">\n",
              "    <div class=\"colab-df-container\">\n",
              "      <div>\n",
              "<style scoped>\n",
              "    .dataframe tbody tr th:only-of-type {\n",
              "        vertical-align: middle;\n",
              "    }\n",
              "\n",
              "    .dataframe tbody tr th {\n",
              "        vertical-align: top;\n",
              "    }\n",
              "\n",
              "    .dataframe thead th {\n",
              "        text-align: right;\n",
              "    }\n",
              "</style>\n",
              "<table border=\"1\" class=\"dataframe\">\n",
              "  <thead>\n",
              "    <tr style=\"text-align: right;\">\n",
              "      <th></th>\n",
              "      <th>open</th>\n",
              "      <th>high</th>\n",
              "      <th>low</th>\n",
              "      <th>close</th>\n",
              "      <th>volume</th>\n",
              "      <th>market_cap</th>\n",
              "      <th>hour</th>\n",
              "      <th>day</th>\n",
              "      <th>month</th>\n",
              "      <th>year</th>\n",
              "    </tr>\n",
              "  </thead>\n",
              "  <tbody>\n",
              "    <tr>\n",
              "      <th>0</th>\n",
              "      <td>21526.455593</td>\n",
              "      <td>21783.075723</td>\n",
              "      <td>21195.006695</td>\n",
              "      <td>21395.020071</td>\n",
              "      <td>3.196225e+10</td>\n",
              "      <td>4.093085e+11</td>\n",
              "      <td>0</td>\n",
              "      <td>24</td>\n",
              "      <td>8</td>\n",
              "      <td>2022</td>\n",
              "    </tr>\n",
              "    <tr>\n",
              "      <th>1</th>\n",
              "      <td>21401.045670</td>\n",
              "      <td>21646.203762</td>\n",
              "      <td>20955.138156</td>\n",
              "      <td>21528.087372</td>\n",
              "      <td>3.187828e+10</td>\n",
              "      <td>4.118332e+11</td>\n",
              "      <td>0</td>\n",
              "      <td>23</td>\n",
              "      <td>8</td>\n",
              "      <td>2022</td>\n",
              "    </tr>\n",
              "    <tr>\n",
              "      <th>2</th>\n",
              "      <td>21531.463849</td>\n",
              "      <td>21531.463849</td>\n",
              "      <td>20939.184173</td>\n",
              "      <td>21398.908350</td>\n",
              "      <td>3.166650e+10</td>\n",
              "      <td>4.093401e+11</td>\n",
              "      <td>0</td>\n",
              "      <td>22</td>\n",
              "      <td>8</td>\n",
              "      <td>2022</td>\n",
              "    </tr>\n",
              "    <tr>\n",
              "      <th>3</th>\n",
              "      <td>21160.392783</td>\n",
              "      <td>21668.845908</td>\n",
              "      <td>21103.196808</td>\n",
              "      <td>21534.121231</td>\n",
              "      <td>2.310231e+10</td>\n",
              "      <td>4.119067e+11</td>\n",
              "      <td>0</td>\n",
              "      <td>21</td>\n",
              "      <td>8</td>\n",
              "      <td>2022</td>\n",
              "    </tr>\n",
              "    <tr>\n",
              "      <th>4</th>\n",
              "      <td>20872.842174</td>\n",
              "      <td>21350.806299</td>\n",
              "      <td>20856.731336</td>\n",
              "      <td>21166.060396</td>\n",
              "      <td>2.759567e+10</td>\n",
              "      <td>4.048481e+11</td>\n",
              "      <td>0</td>\n",
              "      <td>20</td>\n",
              "      <td>8</td>\n",
              "      <td>2022</td>\n",
              "    </tr>\n",
              "  </tbody>\n",
              "</table>\n",
              "</div>\n",
              "      <button class=\"colab-df-convert\" onclick=\"convertToInteractive('df-863080f5-4354-4ab6-9380-266482422639')\"\n",
              "              title=\"Convert this dataframe to an interactive table.\"\n",
              "              style=\"display:none;\">\n",
              "        \n",
              "  <svg xmlns=\"http://www.w3.org/2000/svg\" height=\"24px\"viewBox=\"0 0 24 24\"\n",
              "       width=\"24px\">\n",
              "    <path d=\"M0 0h24v24H0V0z\" fill=\"none\"/>\n",
              "    <path d=\"M18.56 5.44l.94 2.06.94-2.06 2.06-.94-2.06-.94-.94-2.06-.94 2.06-2.06.94zm-11 1L8.5 8.5l.94-2.06 2.06-.94-2.06-.94L8.5 2.5l-.94 2.06-2.06.94zm10 10l.94 2.06.94-2.06 2.06-.94-2.06-.94-.94-2.06-.94 2.06-2.06.94z\"/><path d=\"M17.41 7.96l-1.37-1.37c-.4-.4-.92-.59-1.43-.59-.52 0-1.04.2-1.43.59L10.3 9.45l-7.72 7.72c-.78.78-.78 2.05 0 2.83L4 21.41c.39.39.9.59 1.41.59.51 0 1.02-.2 1.41-.59l7.78-7.78 2.81-2.81c.8-.78.8-2.07 0-2.86zM5.41 20L4 18.59l7.72-7.72 1.47 1.35L5.41 20z\"/>\n",
              "  </svg>\n",
              "      </button>\n",
              "      \n",
              "  <style>\n",
              "    .colab-df-container {\n",
              "      display:flex;\n",
              "      flex-wrap:wrap;\n",
              "      gap: 12px;\n",
              "    }\n",
              "\n",
              "    .colab-df-convert {\n",
              "      background-color: #E8F0FE;\n",
              "      border: none;\n",
              "      border-radius: 50%;\n",
              "      cursor: pointer;\n",
              "      display: none;\n",
              "      fill: #1967D2;\n",
              "      height: 32px;\n",
              "      padding: 0 0 0 0;\n",
              "      width: 32px;\n",
              "    }\n",
              "\n",
              "    .colab-df-convert:hover {\n",
              "      background-color: #E2EBFA;\n",
              "      box-shadow: 0px 1px 2px rgba(60, 64, 67, 0.3), 0px 1px 3px 1px rgba(60, 64, 67, 0.15);\n",
              "      fill: #174EA6;\n",
              "    }\n",
              "\n",
              "    [theme=dark] .colab-df-convert {\n",
              "      background-color: #3B4455;\n",
              "      fill: #D2E3FC;\n",
              "    }\n",
              "\n",
              "    [theme=dark] .colab-df-convert:hover {\n",
              "      background-color: #434B5C;\n",
              "      box-shadow: 0px 1px 3px 1px rgba(0, 0, 0, 0.15);\n",
              "      filter: drop-shadow(0px 1px 2px rgba(0, 0, 0, 0.3));\n",
              "      fill: #FFFFFF;\n",
              "    }\n",
              "  </style>\n",
              "\n",
              "      <script>\n",
              "        const buttonEl =\n",
              "          document.querySelector('#df-863080f5-4354-4ab6-9380-266482422639 button.colab-df-convert');\n",
              "        buttonEl.style.display =\n",
              "          google.colab.kernel.accessAllowed ? 'block' : 'none';\n",
              "\n",
              "        async function convertToInteractive(key) {\n",
              "          const element = document.querySelector('#df-863080f5-4354-4ab6-9380-266482422639');\n",
              "          const dataTable =\n",
              "            await google.colab.kernel.invokeFunction('convertToInteractive',\n",
              "                                                     [key], {});\n",
              "          if (!dataTable) return;\n",
              "\n",
              "          const docLinkHtml = 'Like what you see? Visit the ' +\n",
              "            '<a target=\"_blank\" href=https://colab.research.google.com/notebooks/data_table.ipynb>data table notebook</a>'\n",
              "            + ' to learn more about interactive tables.';\n",
              "          element.innerHTML = '';\n",
              "          dataTable['output_type'] = 'display_data';\n",
              "          await google.colab.output.renderOutput(dataTable, element);\n",
              "          const docLink = document.createElement('div');\n",
              "          docLink.innerHTML = docLinkHtml;\n",
              "          element.appendChild(docLink);\n",
              "        }\n",
              "      </script>\n",
              "    </div>\n",
              "  </div>\n",
              "  "
            ]
          },
          "metadata": {}
        },
        {
          "output_type": "stream",
          "name": "stdout",
          "text": [
            "3406\n"
          ]
        }
      ]
    },
    {
      "cell_type": "code",
      "source": [
        "# Need to make all data in thousands USD, Volume ATM is in millions or billions\n",
        "\n",
        "scaler = MinMaxScaler(feature_range=(0,1))\n",
        "normalised_data = scaler.fit_transform(data)\n",
        "type(normalised_data),normalised_data.shape,normalised_data[0][3],scaler.inverse_transform(normalised_data[0:1])[0][3],data.iloc[0:1,3:4]"
      ],
      "metadata": {
        "colab": {
          "base_uri": "https://localhost:8080/"
        },
        "id": "ebKPTg7PGrlC",
        "outputId": "ed555e2e-df27-4688-e040-f78615b0e626"
      },
      "execution_count": 6,
      "outputs": [
        {
          "output_type": "execute_result",
          "data": {
            "text/plain": [
              "(numpy.ndarray,\n",
              " (3406, 10),\n",
              " 0.3159569613479871,\n",
              " 21395.02007149252,\n",
              "           close\n",
              " 0  21395.020071)"
            ]
          },
          "metadata": {},
          "execution_count": 6
        }
      ]
    },
    {
      "cell_type": "code",
      "source": [
        "x_train = []\n",
        "y_train = []\n",
        "\n",
        "# Looping over everyday starting from day number 60\n",
        "for i in range (30, normalised_data.shape[0]):\n",
        "    # the ,0 in the second index means to access the first coloumn in that row otherwise we will gettraining_set_scaled[i,0]\n",
        "    x_train.append(normalised_data[i-30:i,0:10]) # data of days 0 to 59 as upper bound :i,0] is not inclusive\n",
        "\n",
        "    y_train.append(normalised_data[i,3:4]) # data of the 60th day (the true result)\n",
        "\n",
        "# taking the batches of data and transforming it into a numpy array instead of a list\n",
        "x_train, y_train = np.array(x_train),np.array(y_train)"
      ],
      "metadata": {
        "id": "CkhFST3H6EOv"
      },
      "execution_count": 7,
      "outputs": []
    },
    {
      "cell_type": "code",
      "source": [
        "X_train, X_test = x_train[:-480], x_train[-480:]\n",
        "Y_train, Y_test = y_train[:-480], y_train[-480:]"
      ],
      "metadata": {
        "id": "1icTA4ium9OM"
      },
      "execution_count": 8,
      "outputs": []
    },
    {
      "cell_type": "code",
      "source": [
        "for i in range(0,len(x_train)):\n",
        "  #print(i)\n",
        "  for j in range(X_train.shape[1]):\n",
        "    if(x_train[i][j][3] == y_train[0]):\n",
        "      print(i,j)"
      ],
      "metadata": {
        "colab": {
          "base_uri": "https://localhost:8080/"
        },
        "id": "IacV-IBzZDL0",
        "outputId": "084cfe50-1567-4e63-fd06-b3971e64ca91"
      },
      "execution_count": 9,
      "outputs": [
        {
          "output_type": "stream",
          "name": "stdout",
          "text": [
            "1 29\n",
            "2 28\n",
            "3 27\n",
            "4 26\n",
            "5 25\n",
            "6 24\n",
            "7 23\n",
            "8 22\n",
            "9 21\n",
            "10 20\n",
            "11 19\n",
            "12 18\n",
            "13 17\n",
            "14 16\n",
            "15 15\n",
            "16 14\n",
            "17 13\n",
            "18 12\n",
            "19 11\n",
            "20 10\n",
            "21 9\n",
            "22 8\n",
            "23 7\n",
            "24 6\n",
            "25 5\n",
            "26 4\n",
            "27 3\n",
            "28 2\n",
            "29 1\n",
            "30 0\n"
          ]
        }
      ]
    },
    {
      "cell_type": "markdown",
      "source": [
        "# Build Tensorflow Model"
      ],
      "metadata": {
        "id": "7n-h3ulnp7WB"
      }
    },
    {
      "cell_type": "markdown",
      "source": [
        "## Standard Imports"
      ],
      "metadata": {
        "id": "MV0g20xe9g1K"
      }
    },
    {
      "cell_type": "code",
      "source": [
        "# Importing Tensorflow\n",
        "import tensorflow as tf\n",
        "\n",
        "# Declares a base class called sequential to add model layers on \n",
        "from tensorflow.keras.models import Sequential\n",
        "\n",
        "# Dense layer is final output 1d layer\n",
        "# Dropout layer protects against overfitting \n",
        "from tensorflow.keras.layers import Dense, Dropout\n",
        "\n",
        "# RNN LSTM layer\n",
        "from tensorflow.keras.layers import LSTM,GRU\n",
        "\n",
        "from tensorflow.keras.callbacks import ModelCheckpoint, EarlyStopping\n",
        "\n",
        "# Mounting google drive for save\n",
        "# Moved up\n",
        "\n",
        "print(\"Num GPUs Available: \", len(tf.config.list_physical_devices('GPU')))"
      ],
      "metadata": {
        "id": "BiRGDnjFnpGg",
        "colab": {
          "base_uri": "https://localhost:8080/"
        },
        "outputId": "25afa25c-3500-41ef-8c30-3bbce45a4fe9"
      },
      "execution_count": 10,
      "outputs": [
        {
          "output_type": "stream",
          "name": "stdout",
          "text": [
            "Num GPUs Available:  0\n"
          ]
        }
      ]
    },
    {
      "cell_type": "markdown",
      "source": [
        "## Building RNN - LSTM"
      ],
      "metadata": {
        "id": "rcsa8aVm9j92"
      }
    },
    {
      "cell_type": "code",
      "source": [
        "model_simple=Sequential()\n",
        "model_simple.add(LSTM(50,return_sequences=True,input_shape=(x_train.shape[1],x_train.shape[2])))\n",
        "model_simple.add(LSTM(50,return_sequences=True))\n",
        "model_simple.add(LSTM(50))\n",
        "model_simple.add(Dense(1))\n",
        "model_simple.compile(loss='mean_squared_error', optimizer='adam')"
      ],
      "metadata": {
        "id": "bxhnCTf9rJl8"
      },
      "execution_count": null,
      "outputs": []
    },
    {
      "cell_type": "code",
      "source": [
        "model_complex=Sequential()\n",
        "model_complex.add(LSTM(256,return_sequences=True,input_shape=(x_train.shape[1],x_train.shape[2])))\n",
        "model_complex.add(Dropout(rate=0.2))\n",
        "model_complex.add(LSTM(512,return_sequences=True))\n",
        "model_complex.add(Dropout(rate=0.4))\n",
        "model_complex.add(LSTM(512,return_sequences=True))\n",
        "model_complex.add(Dropout(rate=0.4))\n",
        "model_complex.add(LSTM(256))\n",
        "model_complex.add(Dense(1))\n",
        "model_complex.compile(loss='mean_squared_error', optimizer='adam')"
      ],
      "metadata": {
        "id": "056qPRac7Sa3"
      },
      "execution_count": null,
      "outputs": []
    },
    {
      "cell_type": "code",
      "source": [
        "if(TRAINING):\n",
        "  callbacks_simple = [EarlyStopping(monitor='val_loss', patience=50),\n",
        "              ModelCheckpoint(model_simple_path, monitor='loss', save_best_only=True, mode='min')]\n",
        "  callbacks_complex = [EarlyStopping(monitor='val_loss', patience=50),\n",
        "              ModelCheckpoint(model_complex_path, monitor='loss', save_best_only=True, mode='min')]\n",
        "  model_simple.fit(x_train, y_train,validation_split=0.2,epochs=1000,batch_size=32,verbose=1,callbacks=callbacks_simple)\n",
        "  model_complex.fit(x_train, y_train,validation_split=0.2,epochs=1200,batch_size=64,verbose=1,callbacks=callbacks_complex)\n",
        "else:\n",
        "  model_simple = model_simple.load_weights(model_simple_path)\n",
        "  model_complex = model_complex.load_weights(model_complex_path)"
      ],
      "metadata": {
        "id": "NG9759J-Ekr3"
      },
      "execution_count": null,
      "outputs": []
    },
    {
      "cell_type": "code",
      "source": [
        "predictions_simple = model_simple.predict(X_test)\n",
        "predictions_complex = model_complex.predict(X_test)"
      ],
      "metadata": {
        "id": "4pNRrJOtEJ0e"
      },
      "execution_count": null,
      "outputs": []
    },
    {
      "cell_type": "markdown",
      "source": [
        "## RNN - GRU"
      ],
      "metadata": {
        "id": "EZ310luk-gBc"
      }
    },
    {
      "cell_type": "code",
      "source": [
        "GRU_Base=Sequential()\n",
        "GRU_Base.add(GRU(50,return_sequences=True,input_shape=(x_train.shape[1],x_train.shape[2])))\n",
        "GRU_Base.add(GRU(50,return_sequences=True))\n",
        "GRU_Base.add(GRU(50))\n",
        "GRU_Base.add(Dense(1))\n",
        "GRU_Base.compile(loss='mean_squared_error', optimizer='adam')"
      ],
      "metadata": {
        "id": "CagSLUK9-jWn"
      },
      "execution_count": null,
      "outputs": []
    },
    {
      "cell_type": "code",
      "source": [
        "callbacks_base = [EarlyStopping(monitor='val_loss', patience=150),\n",
        "            ModelCheckpoint(gru_base_path, monitor='loss', save_best_only=True, mode='min')]\n",
        "GRU_Base.fit(x_train, y_train,validation_split=0.2,epochs=1000,batch_size=32,verbose=1,callbacks=callbacks_base)"
      ],
      "metadata": {
        "id": "CB3BUE4Qe-bM"
      },
      "execution_count": null,
      "outputs": []
    },
    {
      "cell_type": "code",
      "source": [
        "GRU_PRED_BASE = GRU_Base.predict(X_test)"
      ],
      "metadata": {
        "id": "Zgt1RYRDf7RN"
      },
      "execution_count": null,
      "outputs": []
    },
    {
      "cell_type": "markdown",
      "source": [
        "## Autoregressive Forecaster"
      ],
      "metadata": {
        "id": "28RMsO8P-koG"
      }
    },
    {
      "cell_type": "code",
      "source": [],
      "metadata": {
        "id": "cT_pI6DsAG_t"
      },
      "execution_count": null,
      "outputs": []
    },
    {
      "cell_type": "markdown",
      "source": [
        "# Visualise the model predictions"
      ],
      "metadata": {
        "id": "Ew2AchOZp1jG"
      }
    },
    {
      "cell_type": "code",
      "source": [
        "import matplotlib.pyplot as plt\n",
        "plt.style.use('fivethirtyeight')\n",
        "plt.figure(figsize=(24,12))\n",
        "plt.title('Forecasting Closing price of bitcoin based on previous 30 days')\n",
        "plt.xlabel('Time', fontsize=14) # Fix Timeing\n",
        "plt.ylabel('Bitcoin Price (AUD)', fontsize=18)\n",
        "plt.plot(predictions_simple,color='blue')\n",
        "plt.plot(predictions_complex,color='yellow')\n",
        "plt.plot(GRU_PRED_BASE,color='pink')\n",
        "plt.plot(Y_test,color='green')\n",
        "plt.legend(['Forecast_Simple','Forecast_Complex','Gru Base', 'Actual'])\n",
        "plt.show()"
      ],
      "metadata": {
        "id": "p7Hifh1Bk00U"
      },
      "execution_count": null,
      "outputs": []
    },
    {
      "cell_type": "code",
      "source": [],
      "metadata": {
        "id": "f2OgDJykQeqk"
      },
      "execution_count": null,
      "outputs": []
    },
    {
      "cell_type": "markdown",
      "source": [
        "# Resources\n",
        "\n",
        "https://towardsdatascience.com/illustrated-guide-to-lstms-and-gru-s-a-step-by-step-explanation-44e9eb85bf21"
      ],
      "metadata": {
        "id": "xMovpi8PcrP4"
      }
    }
  ]
}