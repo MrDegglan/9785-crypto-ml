{
  "cells": [
    {
      "cell_type": "markdown",
      "metadata": {
        "colab_type": "text",
        "id": "view-in-github"
      },
      "source": [
        "<a href=\"https://colab.research.google.com/github/MrDegglan/9785-crypto-ml/blob/Raouf-Younes/ML_Main.ipynb\" target=\"_parent\"><img src=\"https://colab.research.google.com/assets/colab-badge.svg\" alt=\"Open In Colab\"/></a>"
      ]
    },
    {
      "cell_type": "markdown",
      "metadata": {
        "id": "eFspcwLdvEia"
      },
      "source": [
        "# Library Import\n",
        "https://trello.com/b/8l8sGsy8/project-proposal"
      ]
    },
    {
      "cell_type": "code",
      "execution_count": null,
      "metadata": {
        "colab": {
          "base_uri": "https://localhost:8080/"
        },
        "id": "HUF6F3ZgRr2a",
        "outputId": "971fa6f3-c770-49df-bccf-1d9ef69cab82"
      },
      "outputs": [],
      "source": [
        "!pip install cryptocmd\n",
        "\n",
        "!pip install numpy\n",
        "!pip install pandas\n",
        "!pip install -U scikit-learn\n",
        "!pip install matplotlib\n",
        "!pip install seaborn\n",
        "!pip install statsmodels\n",
        "\n",
        "# jupyter notebook   --NotebookApp.allow_origin='https://colab.research.google.com'   --port=8888   --NotebookApp.port_retries=0"
      ]
    },
    {
      "cell_type": "markdown",
      "metadata": {
        "id": "tdMZfD4xfbqB"
      },
      "source": [
        "tabular vs multidimensional\n",
        "\n",
        "pandas used for tabular data, statistics \n",
        "\n",
        "numpy used for multidimentional like images"
      ]
    },
    {
      "cell_type": "code",
      "execution_count": null,
      "metadata": {
        "id": "31e0sFAiv1Sx"
      },
      "outputs": [],
      "source": [
        "# Library for crypto currency prediction\n",
        "from cryptocmd import CmcScraper\n",
        "\n",
        "# Dependency for pandas, provides arrays, < 50K\n",
        "import numpy as np\n",
        "\n",
        "# adds support for DataFrames, > 500K\n",
        "import pandas as pd\n",
        "\n",
        "# visualization\n",
        "import matplotlib as mpl\n",
        "import matplotlib.pyplot as plt\n",
        "import seaborn as sns\n",
        "\n",
        "# Seasonality anaylsis\n",
        "from statsmodels.tsa.seasonal import seasonal_decompose\n",
        "import statsmodels.api as sm\n",
        "from pylab import rcParams\n",
        "\n",
        "# MinMaxScalar normalises numeric data between 0 and 1 for the purpose of ML training\n",
        "from sklearn.preprocessing import StandardScaler, MinMaxScaler, scale\n",
        "from sklearn.preprocessing import LabelEncoder\n",
        "\n",
        "# Used for making a train and test split\n",
        "from sklearn.model_selection import train_test_split\n",
        "\n",
        "# If training new models set TRAINING to true\n",
        "TRAINING = True\n",
        "\n",
        "# If running on local machine set LOCAL to true, Neccessary for training.\n",
        "LOCAL = True\n",
        "\n",
        "# Hourly Data Source\n",
        "HOURLY = True"
      ]
    },
    {
      "cell_type": "code",
      "execution_count": null,
      "metadata": {
        "colab": {
          "base_uri": "https://localhost:8080/"
        },
        "id": "NfJcu00md6nA",
        "outputId": "c9c0272f-36df-4d9c-f73a-2b4a28717153"
      },
      "outputs": [],
      "source": [
        "if(LOCAL):\n",
        "  model_simple_path = './Models/RNN_LSTM_SIMPLE/'\n",
        "  model_complex_path = './Models/RNN_LSTM_COMPLEX/'\n",
        "  gru_base_path = './Models/RNN_GRU_BASE/'\n",
        "  Hourly_Data_Path = './Gemini_BTCUSD_1h.csv'\n",
        "   \n",
        "else:\n",
        "  from google.colab import drive\n",
        "  drive.mount('/content/drive')\n",
        "  \n",
        "  if(HOURLY):\n",
        "    Hourly_Data_Path = '/content/drive/MyDrive/9785_Colab_Notebooks/Data/Gemini_BTCUSD_1h.csv'\n",
        "    model_simple_path = '/content/drive/MyDrive/9785_Colab_Notebooks/Ml_Models/Hourly/RNN_LSTM_SIMPLE/'\n",
        "    model_complex_path = '/content/drive/MyDrive/9785_Colab_Notebooks/Ml_Models/Hourly/RNN_LSTM_COMPLEX/'\n",
        "    gru_base_path = '/content/drive/MyDrive/9785_Colab_Notebooks/Ml_Models/Hourly/RNN_GRU_BASE/'\n",
        "  else:\n",
        "    model_simple_path = '/content/drive/MyDrive/9785_Colab_Notebooks/Ml_Models/Daily/RNN_LSTM_SIMPLE/'\n",
        "    model_complex_path = '/content/drive/MyDrive/9785_Colab_Notebooks/Ml_Models/Daily/RNN_LSTM_COMPLEX/'\n",
        "    gru_base_path = '/content/drive/MyDrive/9785_Colab_Notebooks/Ml_Models/Daily/RNN_GRU_BASE/'\n"
      ]
    },
    {
      "cell_type": "markdown",
      "metadata": {
        "id": "x8TC-rIHqLL6"
      },
      "source": [
        "# Data Download and preperation"
      ]
    },
    {
      "cell_type": "code",
      "execution_count": null,
      "metadata": {
        "colab": {
          "base_uri": "https://localhost:8080/",
          "height": 423
        },
        "id": "H477R2Ymv3k_",
        "outputId": "164f1067-4723-4c4e-8813-c66d65dc0449"
      },
      "outputs": [],
      "source": [
        "# Data Import\n",
        "if(HOURLY):\n",
        "  data = pd.read_csv(Hourly_Data_Path,skiprows=1)\n",
        "  data.columns = [x.strip().lower().replace(' ','_') for x in data.columns]\n",
        "  display(data)\n",
        "else:\n",
        "  # ==============================================================================\n",
        "  # Scraper is initialized, symbol, start and end of download are included\n",
        "  scraper = CmcScraper('BTC', '28-04-2013', '24-08-2022')\n",
        "  # Transform collected data into a dataframe\n",
        "  data = scraper.get_dataframe()\n",
        "  data.columns = [x.strip().lower().replace(' ','_') for x in data.columns]\n",
        "  display(data)"
      ]
    },
    {
      "cell_type": "code",
      "execution_count": null,
      "metadata": {
        "colab": {
          "base_uri": "https://localhost:8080/",
          "height": 1000
        },
        "id": "jOzAvoTa1t9x",
        "outputId": "b4133076-95f3-4c33-f62e-b865d9203695"
      },
      "outputs": [],
      "source": [
        "data['date'] = pd.to_datetime(data['date'], format='%Y-%m-%d %H:%M:%S')#.astype(int) / 10**9\n",
        "data['hour'] = data['date'].dt.hour\n",
        "data['day'] = data['date'].dt.day\n",
        "data['month'] = data['date'].dt.month\n",
        "data['year'] = data['date'].dt.year\n",
        "data_raw = data\n",
        "data = data.drop(['date','unix','symbol'], axis=1,errors='ignore')\n",
        "\n",
        "with pd.option_context('display.max_rows', None, 'display.max_columns', None):\n",
        "  display(data.head(30))\n",
        "  print(len(data))"
      ]
    },
    {
      "cell_type": "code",
      "execution_count": null,
      "metadata": {
        "colab": {
          "base_uri": "https://localhost:8080/"
        },
        "id": "ebKPTg7PGrlC",
        "outputId": "b3df0429-6abb-4133-cb0f-4f13b1bd7704"
      },
      "outputs": [],
      "source": [
        "scaler = MinMaxScaler(feature_range=(0,1))\n",
        "normalised_data = scaler.fit_transform(data)\n",
        "type(normalised_data),normalised_data.shape,normalised_data[0],scaler.inverse_transform(normalised_data[0:1])[0][3],data.iloc[0:1,3:4]"
      ]
    },
    {
      "cell_type": "code",
      "execution_count": null,
      "metadata": {
        "id": "CkhFST3H6EOv"
      },
      "outputs": [],
      "source": [
        "x_train = []\n",
        "y_train = data.iloc[:,3:4].values\n",
        "\n",
        "# Looping over everyday starting from day number 60\n",
        "for i in range (30, normalised_data.shape[0]):\n",
        "    # the ,0 in the second index means to access the first coloumn in that row otherwise we will gettraining_set_scaled[i,0]\n",
        "    x_train.append(normalised_data[i-30:i,0:10]) # data of days 0 to 59 as upper bound :i,0] is not inclusive\n",
        "\n",
        "    # y_train.append(normalised_data[i,3:4]) # data of the 60th day (the true result)\n",
        "\n",
        "# taking the batches of data and transforming it into a numpy array instead of a list\n",
        "x_train, y_train = np.array(x_train),np.array(y_train)"
      ]
    },
    {
      "cell_type": "code",
      "execution_count": null,
      "metadata": {
        "id": "1icTA4ium9OM"
      },
      "outputs": [],
      "source": [
        "SAMPLE_SIZE = 2400\n",
        "X_train, X_test = x_train[:-SAMPLE_SIZE], x_train[-SAMPLE_SIZE:]\n",
        "Y_train, Y_test = y_train[:-SAMPLE_SIZE], y_train[-SAMPLE_SIZE:]"
      ]
    },
    {
      "cell_type": "code",
      "execution_count": null,
      "metadata": {
        "id": "IacV-IBzZDL0"
      },
      "outputs": [],
      "source": [
        "# for i in range(0,len(x_train)):\n",
        "#   #print(i)\n",
        "#   for j in range(X_train.shape[1]):\n",
        "#     if(x_train[i][j][3] == y_train[0]):\n",
        "#       print(i,j)"
      ]
    },
    {
      "cell_type": "markdown",
      "metadata": {
        "id": "ikVXveRhrQY4"
      },
      "source": [
        "## Visualization and Initial Analysis"
      ]
    },
    {
      "cell_type": "code",
      "execution_count": null,
      "metadata": {
        "colab": {
          "base_uri": "https://localhost:8080/",
          "height": 81
        },
        "id": "ZvZQepYIrOqV",
        "outputId": "ecdd6cde-f51c-4666-a92a-508f48f6a467"
      },
      "outputs": [],
      "source": [
        "# Select close price and date column from a raw dataset\n",
        "BTC_close = data_raw[['date', 'close']]\n",
        "\n",
        "# print first and last point in dataset\n",
        "pd.DataFrame({'First' : [BTC_close['date'].min()],'Last' :  [BTC_close['date'].max()]})"
      ]
    },
    {
      "cell_type": "code",
      "execution_count": null,
      "metadata": {
        "colab": {
          "base_uri": "https://localhost:8080/"
        },
        "id": "1D6ieMZkVHNX",
        "outputId": "e6adaf7c-193e-433e-b47a-40e9dead0dc2"
      },
      "outputs": [],
      "source": [
        "# Summary target variable\n",
        "BTC_close['close'].describe()"
      ]
    },
    {
      "cell_type": "code",
      "execution_count": null,
      "metadata": {
        "colab": {
          "base_uri": "https://localhost:8080/",
          "height": 585
        },
        "id": "XxKOqDvT_OOY",
        "outputId": "d9adc514-030d-44bf-b21d-7b7fb2e0a230"
      },
      "outputs": [],
      "source": [
        "import matplotlib.dates as mdates\n",
        "\n",
        "# Setting the date as index (time series)\n",
        "BTC_ts = BTC_close.set_index('date')\n",
        "\n",
        "plt.rcParams[\"figure.figsize\"] = [15, 8]\n",
        "plt.rcParams[\"figure.autolayout\"] = True\n",
        "\n",
        "series = BTC_ts.loc[(BTC_ts.index > BTC_ts.index.max() - pd.DateOffset(years=5)) & (BTC_ts.index <= BTC_ts.index.max())]\n",
        "ax = series.plot()\n",
        "ax.xaxis.set_major_locator(mdates.YearLocator(1))\n",
        "ax.xaxis.set_major_formatter(mdates.DateFormatter('%Y'))\n",
        "plt.gcf().autofmt_xdate()\n",
        "plt.grid(which='major',axis ='x', linewidth='1', color='black')\n",
        "plt.xlim(series.index.min(), series.index.max())\n",
        "plt.xlabel('Date', fontsize=14)\n",
        "plt.ylabel('Value', fontsize=14)\n",
        "plt.title('Hourly Development of BTC Price', fontsize=16)\n",
        "\n",
        "plt.show()"
      ]
    },
    {
      "cell_type": "code",
      "execution_count": null,
      "metadata": {
        "colab": {
          "base_uri": "https://localhost:8080/",
          "height": 570
        },
        "id": "HuJNoyBvLtLr",
        "outputId": "ff901d7b-627a-4953-e6b6-9508275dd327"
      },
      "outputs": [],
      "source": [
        "#BTC growth analysis\n",
        "growth = BTC_ts.loc[(BTC_ts.index > BTC_ts.index.max() - pd.DateOffset(years=5)) & (BTC_ts.index <= BTC_ts.index.max())]\n",
        "# Plot\n",
        "x = growth.index.values\n",
        "y1 = growth['close'].values\n",
        "\n",
        "# Plot\n",
        "fig, ax = plt.subplots(1, 1, figsize=(16,5), dpi= 120)\n",
        "plt.fill_between(x, y1=y1, y2=-y1, alpha=0.5, linewidth=2, color='seagreen')\n",
        "plt.title('BTC growth analysis', fontsize=16)\n",
        "plt.hlines(y=0, xmin=np.min(growth.index), xmax=np.max(growth.index), linewidth=.5)\n",
        "plt.xlim(growth.index.min(), growth.index.max())\n",
        "plt.ylim(-abs(growth['close'].max()), growth['close'].max())\n",
        "plt.show()"
      ]
    },
    {
      "cell_type": "code",
      "execution_count": null,
      "metadata": {
        "colab": {
          "base_uri": "https://localhost:8080/",
          "height": 620
        },
        "id": "jOeIpRhEV2nA",
        "outputId": "66a2f28f-2512-4f8a-e293-27c574c767f8"
      },
      "outputs": [],
      "source": [
        "# data seasonality analysis\n",
        "season = BTC_ts.loc[(BTC_ts.index > BTC_ts.index.max() - pd.DateOffset(months=1)) & (BTC_ts.index <= BTC_ts.index.max())]\n",
        "\n",
        "rcParams['figure.figsize'] = 18, 8\n",
        "decomposition = sm.tsa.seasonal_decompose(season, model='additive', freq = 24)\n",
        "fig = decomposition.plot()\n",
        "plt.show()"
      ]
    },
    {
      "cell_type": "code",
      "execution_count": null,
      "metadata": {
        "colab": {
          "base_uri": "https://localhost:8080/",
          "height": 1000
        },
        "id": "M6eT0S92Sfac",
        "outputId": "874cd984-6800-4ee5-c65a-c5cf57ab8115"
      },
      "outputs": [],
      "source": [
        "from statsmodels.tsa.seasonal import seasonal_decompose\n",
        "from dateutil.parser import parse\n",
        "\n",
        "plt.rcParams.update({'figure.figsize': (10, 7), 'figure.dpi': 120})\n",
        "# Import Data\n",
        "df = BTC_ts\n",
        "\n",
        "# Multiplicative Decomposition \n",
        "result_mul = seasonal_decompose(df['close'], model='multiplicative', extrapolate_trend='freq', freq = 24)\n",
        "\n",
        "# Additive Decomposition\n",
        "result_add = seasonal_decompose(df['close'], model='additive', extrapolate_trend='freq', freq = 24)\n",
        "\n",
        "# Plot\n",
        "plt.rcParams.update({'figure.figsize': (10,10)})\n",
        "result_mul.plot().suptitle('Multiplicative Decompose', fontsize=22)\n",
        "result_add.plot().suptitle('Additive Decompose', fontsize=22)\n",
        "plt.show()"
      ]
    },
    {
      "cell_type": "code",
      "execution_count": null,
      "metadata": {
        "colab": {
          "base_uri": "https://localhost:8080/"
        },
        "id": "bz1GngTqc-I0",
        "outputId": "21f67c4b-0a0e-44e9-cccc-89c0d1acc81a"
      },
      "outputs": [],
      "source": [
        "from statsmodels.tsa.stattools import adfuller, kpss\n",
        "\n",
        "# ADF Test\n",
        "result = adfuller(BTC_ts.close.values, autolag='AIC')\n",
        "print(f'ADF Statistic: {result[0]}')\n",
        "print(f'p-value: {result[1]}')\n",
        "for key, value in result[4].items():\n",
        "    print('Critial Values:')\n",
        "    print(f'   {key}, {value}')\n",
        "\n",
        "# KPSS Test\n",
        "result = kpss(BTC_ts.close.values, regression='c')\n",
        "print('\\nKPSS Statistic: %f' % result[0])\n",
        "print('p-value: %f' % result[1])\n",
        "for key, value in result[3].items():\n",
        "    print('Critial Values:')\n",
        "    print(f'   {key}, {value}')"
      ]
    },
    {
      "cell_type": "code",
      "execution_count": null,
      "metadata": {
        "colab": {
          "base_uri": "https://localhost:8080/",
          "height": 621
        },
        "id": "NlL6qfPNd6ZK",
        "outputId": "a9b48139-17b3-4fd0-e9ee-bafcbc49f7ec"
      },
      "outputs": [],
      "source": [
        "from pandas.plotting import autocorrelation_plot\n",
        "\n",
        "# Draw Plot\n",
        "plt.rcParams.update({'figure.figsize':(9,5), 'figure.dpi':120})\n",
        "autocorrelation_plot(BTC_ts.close.tolist())"
      ]
    },
    {
      "cell_type": "code",
      "execution_count": null,
      "metadata": {
        "colab": {
          "base_uri": "https://localhost:8080/",
          "height": 596
        },
        "id": "4HCuP4GughLU",
        "outputId": "8fc0a01e-5c1c-493e-a00f-d04da4979f48"
      },
      "outputs": [],
      "source": [
        "# autocorrelation and partial autocorrelation functions\n",
        "from statsmodels.tsa.stattools import acf, pacf\n",
        "from statsmodels.graphics.tsaplots import plot_acf, plot_pacf\n",
        "\n",
        "# Calculate ACF and PACF upto 50 lags\n",
        "# acf_50 = acf(df.value, nlags=50)\n",
        "# pacf_50 = pacf(df.value, nlags=50)\n",
        "\n",
        "# Draw Plot\n",
        "fig, axes = plt.subplots(1,2,figsize=(16,3), dpi= 100)\n",
        "plot_acf(BTC_ts.close.tolist(), lags=50, ax=axes[0])\n",
        "plot_pacf(BTC_ts.close.tolist(), lags=50, ax=axes[1])"
      ]
    },
    {
      "cell_type": "markdown",
      "metadata": {
        "id": "7n-h3ulnp7WB"
      },
      "source": [
        "# Build Tensorflow Model"
      ]
    },
    {
      "cell_type": "markdown",
      "metadata": {
        "id": "MV0g20xe9g1K"
      },
      "source": [
        "## Standard Imports"
      ]
    },
    {
      "cell_type": "code",
      "execution_count": null,
      "metadata": {
        "colab": {
          "base_uri": "https://localhost:8080/"
        },
        "id": "BiRGDnjFnpGg",
        "outputId": "da791f34-b9ae-4e18-f7e1-977f408bf247"
      },
      "outputs": [],
      "source": [
        "# Importing Tensorflow\n",
        "import tensorflow as tf\n",
        "print(tf.__version__)\n",
        "\n",
        "# Declares a base class called sequential to add model layers on \n",
        "from tensorflow.keras.models import Sequential\n",
        "\n",
        "# Dense layer is final output 1d layer\n",
        "# Dropout layer protects against overfitting \n",
        "from tensorflow.keras.layers import Dense, Dropout\n",
        "\n",
        "# RNN LSTM layer\n",
        "from tensorflow.keras.layers import LSTM,GRU\n",
        "\n",
        "from tensorflow.keras.callbacks import ModelCheckpoint, EarlyStopping\n",
        "\n",
        "# Mounting google drive for save\n",
        "# Moved up\n",
        "\n",
        "print(\"Num GPUs Available: \", len(tf.config.list_physical_devices('GPU')))"
      ]
    },
    {
      "cell_type": "markdown",
      "metadata": {
        "id": "rcsa8aVm9j92"
      },
      "source": [
        "## Building RNN - LSTM"
      ]
    },
    {
      "cell_type": "code",
      "execution_count": null,
      "metadata": {
        "id": "bxhnCTf9rJl8"
      },
      "outputs": [],
      "source": [
        "model_simple=Sequential()\n",
        "model_simple.add(LSTM(50,return_sequences=True,input_shape=(x_train.shape[1],x_train.shape[2])))\n",
        "model_simple.add(LSTM(50,return_sequences=True))\n",
        "model_simple.add(LSTM(50))\n",
        "model_simple.add(Dense(1))\n",
        "model_simple.compile(loss='mean_squared_error', optimizer='adam')"
      ]
    },
    {
      "cell_type": "code",
      "execution_count": null,
      "metadata": {
        "id": "056qPRac7Sa3"
      },
      "outputs": [],
      "source": [
        "model_complex=Sequential()\n",
        "model_complex.add(LSTM(256,return_sequences=True,input_shape=(x_train.shape[1],x_train.shape[2])))\n",
        "model_complex.add(Dropout(rate=0.2))\n",
        "model_complex.add(LSTM(512,return_sequences=True))\n",
        "model_complex.add(Dropout(rate=0.4))\n",
        "model_complex.add(LSTM(512,return_sequences=True))\n",
        "model_complex.add(Dropout(rate=0.4))\n",
        "model_complex.add(LSTM(256))\n",
        "model_complex.add(Dense(1))\n",
        "model_complex.compile(loss='mean_squared_error', optimizer='adam')"
      ]
    },
    {
      "cell_type": "code",
      "execution_count": null,
      "metadata": {
        "colab": {
          "base_uri": "https://localhost:8080/"
        },
        "id": "NG9759J-Ekr3",
        "outputId": "f35575bd-3bba-47a0-e852-d646f31d5077"
      },
      "outputs": [],
      "source": [
        "if(TRAINING):\n",
        "  callbacks_simple = [EarlyStopping(monitor='val_loss', patience=50),\n",
        "              ModelCheckpoint(model_simple_path, monitor='loss', save_best_only=True, mode='min')]\n",
        "  callbacks_complex = [EarlyStopping(monitor='val_loss', patience=50),\n",
        "              ModelCheckpoint(model_complex_path, monitor='loss', save_best_only=True, mode='min')]\n",
        "  model_simple.fit(x_train, y_train,validation_split=0.2,epochs=1000,batch_size=32,verbose=1,callbacks=callbacks_simple)\n",
        "  model_complex.fit(x_train, y_train,validation_split=0.2,epochs=1000,batch_size=64,verbose=1,callbacks=callbacks_complex)\n",
        "else:\n",
        "  model_simple.load_weights(model_simple_path)\n",
        "  model_complex.load_weights(model_complex_path)"
      ]
    },
    {
      "cell_type": "code",
      "execution_count": null,
      "metadata": {
        "id": "4pNRrJOtEJ0e"
      },
      "outputs": [],
      "source": [
        "predictions_simple = model_simple.predict(X_test)\n",
        "predictions_complex = model_complex.predict(X_test)"
      ]
    },
    {
      "cell_type": "markdown",
      "metadata": {
        "id": "EZ310luk-gBc"
      },
      "source": [
        "## RNN - GRU"
      ]
    },
    {
      "cell_type": "code",
      "execution_count": null,
      "metadata": {
        "id": "CagSLUK9-jWn"
      },
      "outputs": [],
      "source": [
        "GRU_Base=Sequential()\n",
        "GRU_Base.add(GRU(50,return_sequences=True,input_shape=(x_train.shape[1],x_train.shape[2])))\n",
        "GRU_Base.add(GRU(50,return_sequences=True))\n",
        "GRU_Base.add(GRU(50))\n",
        "GRU_Base.add(Dense(1))\n",
        "GRU_Base.compile(loss='mean_squared_error', optimizer='adam')"
      ]
    },
    {
      "cell_type": "code",
      "execution_count": null,
      "metadata": {
        "colab": {
          "base_uri": "https://localhost:8080/"
        },
        "id": "CB3BUE4Qe-bM",
        "outputId": "a830b206-65ad-4163-bbb4-7a2708203798"
      },
      "outputs": [],
      "source": [
        "callbacks_base = [EarlyStopping(monitor='val_loss', patience=50),\n",
        "            ModelCheckpoint(gru_base_path, monitor='loss', save_best_only=True, mode='min')]\n",
        "GRU_Base.fit(x_train, y_train,validation_split=0.2,epochs=1000,batch_size=32,verbose=1,callbacks=callbacks_base)"
      ]
    },
    {
      "cell_type": "code",
      "execution_count": null,
      "metadata": {
        "id": "Zgt1RYRDf7RN"
      },
      "outputs": [],
      "source": [
        "GRU_PRED_BASE = GRU_Base.predict(X_test)"
      ]
    },
    {
      "cell_type": "markdown",
      "metadata": {
        "id": "28RMsO8P-koG"
      },
      "source": [
        "## Autoregressive Forecaster"
      ]
    },
    {
      "cell_type": "code",
      "execution_count": null,
      "metadata": {
        "id": "cT_pI6DsAG_t"
      },
      "outputs": [],
      "source": []
    },
    {
      "cell_type": "markdown",
      "metadata": {
        "id": "Ew2AchOZp1jG"
      },
      "source": [
        "# Visualise the model predictions"
      ]
    },
    {
      "cell_type": "code",
      "execution_count": null,
      "metadata": {
        "id": "c85Vjd5_z-sB"
      },
      "outputs": [],
      "source": [
        "def reverse_inverse(pred, truth):\n",
        "  matrix = np.zeros(shape=(truth.shape[0], truth.shape[2]))\n",
        "  x=pred.reshape(-1,)\n",
        "  matrix[:,3] = x\n",
        "  return scaler.inverse_transform(matrix)[:,3]"
      ]
    },
    {
      "cell_type": "code",
      "execution_count": null,
      "metadata": {
        "colab": {
          "base_uri": "https://localhost:8080/",
          "height": 664
        },
        "id": "p7Hifh1Bk00U",
        "outputId": "08e70366-9a6b-49c1-82b7-984a50e90af2"
      },
      "outputs": [],
      "source": [
        "import matplotlib.pyplot as plt\n",
        "plt.style.use('fivethirtyeight')\n",
        "plt.figure(figsize=(24,12))\n",
        "plt.title('Forecasting Closing price of bitcoin based on previous 30 days')\n",
        "plt.xlabel('Time', fontsize=14) # Fix Timeing\n",
        "plt.ylabel('Bitcoin Price (USD)', fontsize=18)\n",
        "plt.plot(reverse_inverse(predictions_simple, X_test), color='blue')\n",
        "plt.plot(reverse_inverse(predictions_complex, X_test), color='yellow')\n",
        "plt.plot(reverse_inverse(GRU_PRED_BASE, X_test),color='pink')\n",
        "plt.plot(reverse_inverse(Y_test, X_test),color='green')\n",
        "# plt.plot(data.iloc[:60000,3:4],color='green')\n",
        "plt.legend(['Forecast_Simple','Forecast_Complex','Gru Base', 'Actual'])\n",
        "plt.show()"
      ]
    },
    {
      "cell_type": "code",
      "execution_count": null,
      "metadata": {
        "colab": {
          "base_uri": "https://localhost:8080/"
        },
        "id": "XeqLTH2-vI3T",
        "outputId": "426678cc-bb6d-4871-c1c2-d7499bc74416"
      },
      "outputs": [],
      "source": [
        "import math\n",
        "from sklearn.metrics import mean_squared_error\n",
        "rmse_RNN = math.sqrt(mean_squared_error(Y_test,predictions_simple ))\n",
        "rmse_RNN"
      ]
    },
    {
      "cell_type": "markdown",
      "metadata": {
        "id": "xMovpi8PcrP4"
      },
      "source": [
        "# Resources\n",
        "\n",
        "https://towardsdatascience.com/illustrated-guide-to-lstms-and-gru-s-a-step-by-step-explanation-44e9eb85bf21"
      ]
    },
    {
      "cell_type": "code",
      "execution_count": null,
      "metadata": {
        "id": "lkq6sZG6wsyy"
      },
      "outputs": [],
      "source": []
    }
  ],
  "metadata": {
    "accelerator": "GPU",
    "colab": {
      "collapsed_sections": [],
      "include_colab_link": true,
      "provenance": []
    },
    "gpuClass": "standard",
    "kernelspec": {
      "display_name": "Python 3.9.13 ('tf-gpu')",
      "language": "python",
      "name": "python3"
    },
    "language_info": {
      "codemirror_mode": {
        "name": "ipython",
        "version": 3
      },
      "file_extension": ".py",
      "mimetype": "text/x-python",
      "name": "python",
      "nbconvert_exporter": "python",
      "pygments_lexer": "ipython3",
      "version": "3.7.13"
    },
    "vscode": {
      "interpreter": {
        "hash": "38e93f6373777a384861ae65c1b977b64ae865afb0028e17020b0c0075d7d3bf"
      }
    }
  },
  "nbformat": 4,
  "nbformat_minor": 0
}
