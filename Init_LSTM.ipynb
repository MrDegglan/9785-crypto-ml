{
  "nbformat": 4,
  "nbformat_minor": 0,
  "metadata": {
    "colab": {
      "provenance": [],
      "authorship_tag": "ABX9TyPRXnL3in3qLM5vn0M6JNNk",
      "include_colab_link": true
    },
    "kernelspec": {
      "name": "python3",
      "display_name": "Python 3"
    },
    "language_info": {
      "name": "python"
    }
  },
  "cells": [
    {
      "cell_type": "markdown",
      "metadata": {
        "id": "view-in-github",
        "colab_type": "text"
      },
      "source": [
        "<a href=\"https://colab.research.google.com/github/MrDegglan/9785-crypto-ml/blob/Raouf-Younes/Init_LSTM.ipynb\" target=\"_parent\"><img src=\"https://colab.research.google.com/assets/colab-badge.svg\" alt=\"Open In Colab\"/></a>"
      ]
    },
    {
      "cell_type": "code",
      "execution_count": null,
      "metadata": {
        "id": "HUF6F3ZgRr2a",
        "colab": {
          "base_uri": "https://localhost:8080/"
        },
        "outputId": "eb09dff2-a088-4f46-d502-8eda2927d36b"
      },
      "outputs": [
        {
          "output_type": "stream",
          "name": "stdout",
          "text": [
            "Looking in indexes: https://pypi.org/simple, https://us-python.pkg.dev/colab-wheels/public/simple/\n",
            "Requirement already satisfied: cryptocmd in /usr/local/lib/python3.7/dist-packages (0.6.1)\n",
            "Requirement already satisfied: tablib in /usr/local/lib/python3.7/dist-packages (from cryptocmd) (3.2.1)\n",
            "Requirement already satisfied: requests in /usr/local/lib/python3.7/dist-packages (from cryptocmd) (2.23.0)\n",
            "Requirement already satisfied: urllib3!=1.25.0,!=1.25.1,<1.26,>=1.21.1 in /usr/local/lib/python3.7/dist-packages (from requests->cryptocmd) (1.24.3)\n",
            "Requirement already satisfied: chardet<4,>=3.0.2 in /usr/local/lib/python3.7/dist-packages (from requests->cryptocmd) (3.0.4)\n",
            "Requirement already satisfied: idna<3,>=2.5 in /usr/local/lib/python3.7/dist-packages (from requests->cryptocmd) (2.10)\n",
            "Requirement already satisfied: certifi>=2017.4.17 in /usr/local/lib/python3.7/dist-packages (from requests->cryptocmd) (2022.6.15)\n"
          ]
        }
      ],
      "source": [
        "!pip install cryptocmd\n"
      ]
    },
    {
      "cell_type": "markdown",
      "source": [
        "tabular vs multidimensional\n",
        "\n",
        "pandas used for tabular data, statistics \n",
        "\n",
        "numpy used for multidimentional like images"
      ],
      "metadata": {
        "id": "tdMZfD4xfbqB"
      }
    },
    {
      "cell_type": "code",
      "source": [
        "# Library for crypto currency prediction\n",
        "from cryptocmd import CmcScraper\n",
        "\n",
        "# Dependency for pandas, provides arrays, < 50K\n",
        "import numpy as np\n",
        "\n",
        "# adds support for DataFrames, > 500K\n",
        "import pandas as pd\n",
        "\n",
        "# MinMaxScalar normalises numeric data between 0 and 1 for the purpose of ML training\n",
        "from sklearn.preprocessing import MinMaxScaler\n",
        "from sklearn.preprocessing import LabelEncoder\n",
        "\n",
        "# Used for making a train and test split\n",
        "from sklearn.model_selection import train_test_split\n"
      ],
      "metadata": {
        "id": "31e0sFAiv1Sx"
      },
      "execution_count": null,
      "outputs": []
    },
    {
      "cell_type": "code",
      "source": [
        "# Data download\n",
        "# ==============================================================================\n",
        "\n",
        "# Scraper is initialized, symbol, start and end of download are included\n",
        "scraper = CmcScraper('BTC', '28-04-2013', '24-08-2022')\n",
        "\n",
        "# Transform collected data into a dataframe\n",
        "data = scraper.get_dataframe()\n",
        "data['date'] = pd.to_datetime(data['Date'], format='%Y-%m-%d %H:%M:%S').astype(int) / 10**9\n",
        "\n",
        "data.sort_values(by='Date', ascending=True, inplace=True)\n",
        "\n",
        "with pd.option_context('display.max_rows', None, 'display.max_columns', None):\n",
        "  display(data.tail(5))\n",
        "  print(len(data))"
      ],
      "metadata": {
        "colab": {
          "base_uri": "https://localhost:8080/",
          "height": 258
        },
        "id": "H477R2Ymv3k_",
        "outputId": "7c9660e4-2e36-4842-f271-cf815ad705eb"
      },
      "execution_count": null,
      "outputs": [
        {
          "output_type": "stream",
          "name": "stderr",
          "text": [
            "/usr/local/lib/python3.7/dist-packages/ipykernel_launcher.py:9: FutureWarning: casting datetime64[ns] values to int64 with .astype(...) is deprecated and will raise in a future version. Use .view(...) instead.\n",
            "  if __name__ == '__main__':\n"
          ]
        },
        {
          "output_type": "display_data",
          "data": {
            "text/plain": [
              "        Date          Open          High           Low         Close  \\\n",
              "4 2022-08-20  20872.842174  21350.806299  20856.731336  21166.060396   \n",
              "3 2022-08-21  21160.392783  21668.845908  21103.196808  21534.121231   \n",
              "2 2022-08-22  21531.463849  21531.463849  20939.184173  21398.908350   \n",
              "1 2022-08-23  21401.045670  21646.203762  20955.138156  21528.087372   \n",
              "0 2022-08-24  21526.455593  21783.075723  21195.006695  21395.020071   \n",
              "\n",
              "         Volume    Market Cap          date  \n",
              "4  2.759567e+10  4.048481e+11  1.660954e+09  \n",
              "3  2.310231e+10  4.119067e+11  1.661040e+09  \n",
              "2  3.166650e+10  4.093401e+11  1.661126e+09  \n",
              "1  3.187828e+10  4.118332e+11  1.661213e+09  \n",
              "0  3.196225e+10  4.093085e+11  1.661299e+09  "
            ],
            "text/html": [
              "\n",
              "  <div id=\"df-ac14a52d-baca-45eb-aa83-8fb8ea8f8cc1\">\n",
              "    <div class=\"colab-df-container\">\n",
              "      <div>\n",
              "<style scoped>\n",
              "    .dataframe tbody tr th:only-of-type {\n",
              "        vertical-align: middle;\n",
              "    }\n",
              "\n",
              "    .dataframe tbody tr th {\n",
              "        vertical-align: top;\n",
              "    }\n",
              "\n",
              "    .dataframe thead th {\n",
              "        text-align: right;\n",
              "    }\n",
              "</style>\n",
              "<table border=\"1\" class=\"dataframe\">\n",
              "  <thead>\n",
              "    <tr style=\"text-align: right;\">\n",
              "      <th></th>\n",
              "      <th>Date</th>\n",
              "      <th>Open</th>\n",
              "      <th>High</th>\n",
              "      <th>Low</th>\n",
              "      <th>Close</th>\n",
              "      <th>Volume</th>\n",
              "      <th>Market Cap</th>\n",
              "      <th>date</th>\n",
              "    </tr>\n",
              "  </thead>\n",
              "  <tbody>\n",
              "    <tr>\n",
              "      <th>4</th>\n",
              "      <td>2022-08-20</td>\n",
              "      <td>20872.842174</td>\n",
              "      <td>21350.806299</td>\n",
              "      <td>20856.731336</td>\n",
              "      <td>21166.060396</td>\n",
              "      <td>2.759567e+10</td>\n",
              "      <td>4.048481e+11</td>\n",
              "      <td>1.660954e+09</td>\n",
              "    </tr>\n",
              "    <tr>\n",
              "      <th>3</th>\n",
              "      <td>2022-08-21</td>\n",
              "      <td>21160.392783</td>\n",
              "      <td>21668.845908</td>\n",
              "      <td>21103.196808</td>\n",
              "      <td>21534.121231</td>\n",
              "      <td>2.310231e+10</td>\n",
              "      <td>4.119067e+11</td>\n",
              "      <td>1.661040e+09</td>\n",
              "    </tr>\n",
              "    <tr>\n",
              "      <th>2</th>\n",
              "      <td>2022-08-22</td>\n",
              "      <td>21531.463849</td>\n",
              "      <td>21531.463849</td>\n",
              "      <td>20939.184173</td>\n",
              "      <td>21398.908350</td>\n",
              "      <td>3.166650e+10</td>\n",
              "      <td>4.093401e+11</td>\n",
              "      <td>1.661126e+09</td>\n",
              "    </tr>\n",
              "    <tr>\n",
              "      <th>1</th>\n",
              "      <td>2022-08-23</td>\n",
              "      <td>21401.045670</td>\n",
              "      <td>21646.203762</td>\n",
              "      <td>20955.138156</td>\n",
              "      <td>21528.087372</td>\n",
              "      <td>3.187828e+10</td>\n",
              "      <td>4.118332e+11</td>\n",
              "      <td>1.661213e+09</td>\n",
              "    </tr>\n",
              "    <tr>\n",
              "      <th>0</th>\n",
              "      <td>2022-08-24</td>\n",
              "      <td>21526.455593</td>\n",
              "      <td>21783.075723</td>\n",
              "      <td>21195.006695</td>\n",
              "      <td>21395.020071</td>\n",
              "      <td>3.196225e+10</td>\n",
              "      <td>4.093085e+11</td>\n",
              "      <td>1.661299e+09</td>\n",
              "    </tr>\n",
              "  </tbody>\n",
              "</table>\n",
              "</div>\n",
              "      <button class=\"colab-df-convert\" onclick=\"convertToInteractive('df-ac14a52d-baca-45eb-aa83-8fb8ea8f8cc1')\"\n",
              "              title=\"Convert this dataframe to an interactive table.\"\n",
              "              style=\"display:none;\">\n",
              "        \n",
              "  <svg xmlns=\"http://www.w3.org/2000/svg\" height=\"24px\"viewBox=\"0 0 24 24\"\n",
              "       width=\"24px\">\n",
              "    <path d=\"M0 0h24v24H0V0z\" fill=\"none\"/>\n",
              "    <path d=\"M18.56 5.44l.94 2.06.94-2.06 2.06-.94-2.06-.94-.94-2.06-.94 2.06-2.06.94zm-11 1L8.5 8.5l.94-2.06 2.06-.94-2.06-.94L8.5 2.5l-.94 2.06-2.06.94zm10 10l.94 2.06.94-2.06 2.06-.94-2.06-.94-.94-2.06-.94 2.06-2.06.94z\"/><path d=\"M17.41 7.96l-1.37-1.37c-.4-.4-.92-.59-1.43-.59-.52 0-1.04.2-1.43.59L10.3 9.45l-7.72 7.72c-.78.78-.78 2.05 0 2.83L4 21.41c.39.39.9.59 1.41.59.51 0 1.02-.2 1.41-.59l7.78-7.78 2.81-2.81c.8-.78.8-2.07 0-2.86zM5.41 20L4 18.59l7.72-7.72 1.47 1.35L5.41 20z\"/>\n",
              "  </svg>\n",
              "      </button>\n",
              "      \n",
              "  <style>\n",
              "    .colab-df-container {\n",
              "      display:flex;\n",
              "      flex-wrap:wrap;\n",
              "      gap: 12px;\n",
              "    }\n",
              "\n",
              "    .colab-df-convert {\n",
              "      background-color: #E8F0FE;\n",
              "      border: none;\n",
              "      border-radius: 50%;\n",
              "      cursor: pointer;\n",
              "      display: none;\n",
              "      fill: #1967D2;\n",
              "      height: 32px;\n",
              "      padding: 0 0 0 0;\n",
              "      width: 32px;\n",
              "    }\n",
              "\n",
              "    .colab-df-convert:hover {\n",
              "      background-color: #E2EBFA;\n",
              "      box-shadow: 0px 1px 2px rgba(60, 64, 67, 0.3), 0px 1px 3px 1px rgba(60, 64, 67, 0.15);\n",
              "      fill: #174EA6;\n",
              "    }\n",
              "\n",
              "    [theme=dark] .colab-df-convert {\n",
              "      background-color: #3B4455;\n",
              "      fill: #D2E3FC;\n",
              "    }\n",
              "\n",
              "    [theme=dark] .colab-df-convert:hover {\n",
              "      background-color: #434B5C;\n",
              "      box-shadow: 0px 1px 3px 1px rgba(0, 0, 0, 0.15);\n",
              "      filter: drop-shadow(0px 1px 2px rgba(0, 0, 0, 0.3));\n",
              "      fill: #FFFFFF;\n",
              "    }\n",
              "  </style>\n",
              "\n",
              "      <script>\n",
              "        const buttonEl =\n",
              "          document.querySelector('#df-ac14a52d-baca-45eb-aa83-8fb8ea8f8cc1 button.colab-df-convert');\n",
              "        buttonEl.style.display =\n",
              "          google.colab.kernel.accessAllowed ? 'block' : 'none';\n",
              "\n",
              "        async function convertToInteractive(key) {\n",
              "          const element = document.querySelector('#df-ac14a52d-baca-45eb-aa83-8fb8ea8f8cc1');\n",
              "          const dataTable =\n",
              "            await google.colab.kernel.invokeFunction('convertToInteractive',\n",
              "                                                     [key], {});\n",
              "          if (!dataTable) return;\n",
              "\n",
              "          const docLinkHtml = 'Like what you see? Visit the ' +\n",
              "            '<a target=\"_blank\" href=https://colab.research.google.com/notebooks/data_table.ipynb>data table notebook</a>'\n",
              "            + ' to learn more about interactive tables.';\n",
              "          element.innerHTML = '';\n",
              "          dataTable['output_type'] = 'display_data';\n",
              "          await google.colab.output.renderOutput(dataTable, element);\n",
              "          const docLink = document.createElement('div');\n",
              "          docLink.innerHTML = docLinkHtml;\n",
              "          element.appendChild(docLink);\n",
              "        }\n",
              "      </script>\n",
              "    </div>\n",
              "  </div>\n",
              "  "
            ]
          },
          "metadata": {}
        },
        {
          "output_type": "stream",
          "name": "stdout",
          "text": [
            "3406\n"
          ]
        }
      ]
    },
    {
      "cell_type": "code",
      "source": [
        "pd.to_datetime(['2022-08-20'], format='%Y-%m-%d %H:%M:%S').astype(int) / 10**9"
      ],
      "metadata": {
        "colab": {
          "base_uri": "https://localhost:8080/"
        },
        "id": "y_xR3C9Bok89",
        "outputId": "ecec35e4-4dc1-4fa8-9bd4-c7d9e6593137"
      },
      "execution_count": null,
      "outputs": [
        {
          "output_type": "stream",
          "name": "stderr",
          "text": [
            "/usr/local/lib/python3.7/dist-packages/ipykernel_launcher.py:1: FutureWarning: casting datetime64[ns] values to int64 with .astype(...) is deprecated and will raise in a future version. Use .view(...) instead.\n",
            "  \"\"\"Entry point for launching an IPython kernel.\n"
          ]
        },
        {
          "output_type": "execute_result",
          "data": {
            "text/plain": [
              "Float64Index([1660953600.0], dtype='float64')"
            ]
          },
          "metadata": {},
          "execution_count": 10
        }
      ]
    },
    {
      "cell_type": "code",
      "source": [
        "# Data preparation\n",
        "# ==============================================================================\n",
        "model_data_y = data.loc[:, ['Open', 'Close', 'High', 'Low']]\n",
        "\n",
        "model_data_x = data['Close']\n",
        "\n",
        "\n",
        "# Check N/A\n",
        "print(model_data_y.isna().sum())\n",
        "display(model_data_y.tail(5))\n",
        "\n",
        "print(model_data_x.isna().sum())\n",
        "display(model_data_x.tail(5))"
      ],
      "metadata": {
        "colab": {
          "base_uri": "https://localhost:8080/",
          "height": 414
        },
        "id": "5aOjywlDwApB",
        "outputId": "232e4c16-261e-4471-fe78-b400fb74c7f8"
      },
      "execution_count": null,
      "outputs": [
        {
          "output_type": "stream",
          "name": "stdout",
          "text": [
            "Open     0\n",
            "Close    0\n",
            "High     0\n",
            "Low      0\n",
            "dtype: int64\n"
          ]
        },
        {
          "output_type": "display_data",
          "data": {
            "text/plain": [
              "           Open         Close          High           Low\n",
              "4  20872.842174  21166.060396  21350.806299  20856.731336\n",
              "3  21160.392783  21534.121231  21668.845908  21103.196808\n",
              "2  21531.463849  21398.908350  21531.463849  20939.184173\n",
              "1  21401.045670  21528.087372  21646.203762  20955.138156\n",
              "0  21526.455593  21395.020071  21783.075723  21195.006695"
            ],
            "text/html": [
              "\n",
              "  <div id=\"df-9fe4c797-4c0b-4456-a263-06e7649bac39\">\n",
              "    <div class=\"colab-df-container\">\n",
              "      <div>\n",
              "<style scoped>\n",
              "    .dataframe tbody tr th:only-of-type {\n",
              "        vertical-align: middle;\n",
              "    }\n",
              "\n",
              "    .dataframe tbody tr th {\n",
              "        vertical-align: top;\n",
              "    }\n",
              "\n",
              "    .dataframe thead th {\n",
              "        text-align: right;\n",
              "    }\n",
              "</style>\n",
              "<table border=\"1\" class=\"dataframe\">\n",
              "  <thead>\n",
              "    <tr style=\"text-align: right;\">\n",
              "      <th></th>\n",
              "      <th>Open</th>\n",
              "      <th>Close</th>\n",
              "      <th>High</th>\n",
              "      <th>Low</th>\n",
              "    </tr>\n",
              "  </thead>\n",
              "  <tbody>\n",
              "    <tr>\n",
              "      <th>4</th>\n",
              "      <td>20872.842174</td>\n",
              "      <td>21166.060396</td>\n",
              "      <td>21350.806299</td>\n",
              "      <td>20856.731336</td>\n",
              "    </tr>\n",
              "    <tr>\n",
              "      <th>3</th>\n",
              "      <td>21160.392783</td>\n",
              "      <td>21534.121231</td>\n",
              "      <td>21668.845908</td>\n",
              "      <td>21103.196808</td>\n",
              "    </tr>\n",
              "    <tr>\n",
              "      <th>2</th>\n",
              "      <td>21531.463849</td>\n",
              "      <td>21398.908350</td>\n",
              "      <td>21531.463849</td>\n",
              "      <td>20939.184173</td>\n",
              "    </tr>\n",
              "    <tr>\n",
              "      <th>1</th>\n",
              "      <td>21401.045670</td>\n",
              "      <td>21528.087372</td>\n",
              "      <td>21646.203762</td>\n",
              "      <td>20955.138156</td>\n",
              "    </tr>\n",
              "    <tr>\n",
              "      <th>0</th>\n",
              "      <td>21526.455593</td>\n",
              "      <td>21395.020071</td>\n",
              "      <td>21783.075723</td>\n",
              "      <td>21195.006695</td>\n",
              "    </tr>\n",
              "  </tbody>\n",
              "</table>\n",
              "</div>\n",
              "      <button class=\"colab-df-convert\" onclick=\"convertToInteractive('df-9fe4c797-4c0b-4456-a263-06e7649bac39')\"\n",
              "              title=\"Convert this dataframe to an interactive table.\"\n",
              "              style=\"display:none;\">\n",
              "        \n",
              "  <svg xmlns=\"http://www.w3.org/2000/svg\" height=\"24px\"viewBox=\"0 0 24 24\"\n",
              "       width=\"24px\">\n",
              "    <path d=\"M0 0h24v24H0V0z\" fill=\"none\"/>\n",
              "    <path d=\"M18.56 5.44l.94 2.06.94-2.06 2.06-.94-2.06-.94-.94-2.06-.94 2.06-2.06.94zm-11 1L8.5 8.5l.94-2.06 2.06-.94-2.06-.94L8.5 2.5l-.94 2.06-2.06.94zm10 10l.94 2.06.94-2.06 2.06-.94-2.06-.94-.94-2.06-.94 2.06-2.06.94z\"/><path d=\"M17.41 7.96l-1.37-1.37c-.4-.4-.92-.59-1.43-.59-.52 0-1.04.2-1.43.59L10.3 9.45l-7.72 7.72c-.78.78-.78 2.05 0 2.83L4 21.41c.39.39.9.59 1.41.59.51 0 1.02-.2 1.41-.59l7.78-7.78 2.81-2.81c.8-.78.8-2.07 0-2.86zM5.41 20L4 18.59l7.72-7.72 1.47 1.35L5.41 20z\"/>\n",
              "  </svg>\n",
              "      </button>\n",
              "      \n",
              "  <style>\n",
              "    .colab-df-container {\n",
              "      display:flex;\n",
              "      flex-wrap:wrap;\n",
              "      gap: 12px;\n",
              "    }\n",
              "\n",
              "    .colab-df-convert {\n",
              "      background-color: #E8F0FE;\n",
              "      border: none;\n",
              "      border-radius: 50%;\n",
              "      cursor: pointer;\n",
              "      display: none;\n",
              "      fill: #1967D2;\n",
              "      height: 32px;\n",
              "      padding: 0 0 0 0;\n",
              "      width: 32px;\n",
              "    }\n",
              "\n",
              "    .colab-df-convert:hover {\n",
              "      background-color: #E2EBFA;\n",
              "      box-shadow: 0px 1px 2px rgba(60, 64, 67, 0.3), 0px 1px 3px 1px rgba(60, 64, 67, 0.15);\n",
              "      fill: #174EA6;\n",
              "    }\n",
              "\n",
              "    [theme=dark] .colab-df-convert {\n",
              "      background-color: #3B4455;\n",
              "      fill: #D2E3FC;\n",
              "    }\n",
              "\n",
              "    [theme=dark] .colab-df-convert:hover {\n",
              "      background-color: #434B5C;\n",
              "      box-shadow: 0px 1px 3px 1px rgba(0, 0, 0, 0.15);\n",
              "      filter: drop-shadow(0px 1px 2px rgba(0, 0, 0, 0.3));\n",
              "      fill: #FFFFFF;\n",
              "    }\n",
              "  </style>\n",
              "\n",
              "      <script>\n",
              "        const buttonEl =\n",
              "          document.querySelector('#df-9fe4c797-4c0b-4456-a263-06e7649bac39 button.colab-df-convert');\n",
              "        buttonEl.style.display =\n",
              "          google.colab.kernel.accessAllowed ? 'block' : 'none';\n",
              "\n",
              "        async function convertToInteractive(key) {\n",
              "          const element = document.querySelector('#df-9fe4c797-4c0b-4456-a263-06e7649bac39');\n",
              "          const dataTable =\n",
              "            await google.colab.kernel.invokeFunction('convertToInteractive',\n",
              "                                                     [key], {});\n",
              "          if (!dataTable) return;\n",
              "\n",
              "          const docLinkHtml = 'Like what you see? Visit the ' +\n",
              "            '<a target=\"_blank\" href=https://colab.research.google.com/notebooks/data_table.ipynb>data table notebook</a>'\n",
              "            + ' to learn more about interactive tables.';\n",
              "          element.innerHTML = '';\n",
              "          dataTable['output_type'] = 'display_data';\n",
              "          await google.colab.output.renderOutput(dataTable, element);\n",
              "          const docLink = document.createElement('div');\n",
              "          docLink.innerHTML = docLinkHtml;\n",
              "          element.appendChild(docLink);\n",
              "        }\n",
              "      </script>\n",
              "    </div>\n",
              "  </div>\n",
              "  "
            ]
          },
          "metadata": {}
        },
        {
          "output_type": "stream",
          "name": "stdout",
          "text": [
            "0\n"
          ]
        },
        {
          "output_type": "display_data",
          "data": {
            "text/plain": [
              "4    21166.060396\n",
              "3    21534.121231\n",
              "2    21398.908350\n",
              "1    21528.087372\n",
              "0    21395.020071\n",
              "Name: Close, dtype: float64"
            ]
          },
          "metadata": {}
        }
      ]
    },
    {
      "cell_type": "code",
      "source": [
        "scaler_y = MinMaxScaler(feature_range=(0,1))\n",
        "normalised_data_y = scaler_y.fit_transform(model_data_y)\n",
        "display(normalised_data_y[:5])"
      ],
      "metadata": {
        "colab": {
          "base_uri": "https://localhost:8080/",
          "height": 104
        },
        "id": "HcHryj1izGxN",
        "outputId": "dc4a2873-9572-4066-f7d9-cba294c5d4b7"
      },
      "execution_count": null,
      "outputs": [
        {
          "output_type": "display_data",
          "data": {
            "text/plain": [
              "array([[0.00098983, 0.00097453, 0.00089382, 0.00100388],\n",
              "       [0.00097715, 0.00112757, 0.00106129, 0.00103253],\n",
              "       [0.00111876, 0.00104549, 0.00105317, 0.00103329],\n",
              "       [0.00104466, 0.00071941, 0.00095072, 0.00063625],\n",
              "       [0.00070946, 0.00054489, 0.00074276, 0.00040346]])"
            ]
          },
          "metadata": {}
        }
      ]
    },
    {
      "cell_type": "code",
      "source": [
        "normalised_data_y.shape"
      ],
      "metadata": {
        "id": "xPdTwJLbmR8E",
        "colab": {
          "base_uri": "https://localhost:8080/"
        },
        "outputId": "d89a8272-0a66-4052-9e1b-586923d6a86b"
      },
      "execution_count": null,
      "outputs": [
        {
          "output_type": "execute_result",
          "data": {
            "text/plain": [
              "(3406, 4)"
            ]
          },
          "metadata": {},
          "execution_count": 15
        }
      ]
    },
    {
      "cell_type": "code",
      "source": [
        "x_train, x_test, y_train, y_test = train_test_split(model_data_x,normalised_data_y,test_size=0.10,step)"
      ],
      "metadata": {
        "id": "1icTA4ium9OM",
        "colab": {
          "base_uri": "https://localhost:8080/",
          "height": 130
        },
        "outputId": "4ddc1864-b166-4e50-8291-ddda75d5c835"
      },
      "execution_count": null,
      "outputs": [
        {
          "output_type": "error",
          "ename": "SyntaxError",
          "evalue": "ignored",
          "traceback": [
            "\u001b[0;36m  File \u001b[0;32m\"<ipython-input-16-8abc32d9e7b0>\"\u001b[0;36m, line \u001b[0;32m1\u001b[0m\n\u001b[0;31m    x_train, x_test, y_train, y_test = train_test_split(model_data_x,normalised_data_y,test_size=0.10,step)\u001b[0m\n\u001b[0m                                                                                                     ^\u001b[0m\n\u001b[0;31mSyntaxError\u001b[0m\u001b[0;31m:\u001b[0m positional argument follows keyword argument\n"
          ]
        }
      ]
    },
    {
      "cell_type": "code",
      "source": [
        "print(x_train)\n",
        "print(len(x_train))\n",
        "print(\"___________________\")\n",
        "print(y_train)\n",
        "print(len(y_train))"
      ],
      "metadata": {
        "colab": {
          "base_uri": "https://localhost:8080/"
        },
        "id": "ehTv1resh3P1",
        "outputId": "2896d3fe-b9a9-46bd-f5d3-72c2a13738f3"
      },
      "execution_count": null,
      "outputs": [
        {
          "output_type": "stream",
          "name": "stdout",
          "text": [
            "1871    1.499645e+09\n",
            "1226    1.555373e+09\n",
            "208     1.643328e+09\n",
            "3272    1.378598e+09\n",
            "1939    1.493770e+09\n",
            "            ...     \n",
            "694     1.601338e+09\n",
            "1486    1.532909e+09\n",
            "1884    1.498522e+09\n",
            "1920    1.495411e+09\n",
            "780     1.593907e+09\n",
            "Name: date, Length: 3065, dtype: float64\n",
            "3065\n",
            "___________________\n",
            "[[0.03640635 0.03413605 0.03583783 0.03401269]\n",
            " [0.07406612 0.07655187 0.07515651 0.07524019]\n",
            " [0.54918885 0.55876736 0.55123744 0.5450463 ]\n",
            " ...\n",
            " [0.03571282 0.03680115 0.03606034 0.03419153]\n",
            " [0.02926273 0.03118546 0.03244323 0.02943978]\n",
            " [0.13422378 0.13341815 0.1322508  0.13437809]]\n",
            "3065\n"
          ]
        }
      ]
    },
    {
      "cell_type": "code",
      "source": [
        "print(x_test)\n",
        "print(len(x_test))\n",
        "print(\"___________________\")\n",
        "print(y_test)\n",
        "print(len(y_test))"
      ],
      "metadata": {
        "colab": {
          "base_uri": "https://localhost:8080/"
        },
        "id": "WDA2X_CmkEBT",
        "outputId": "c96301f9-3094-4ef8-d415-bf9625412e2e"
      },
      "execution_count": null,
      "outputs": [
        {
          "output_type": "stream",
          "name": "stdout",
          "text": [
            "588     1.610496e+09\n",
            "785     1.593475e+09\n",
            "1111    1.565309e+09\n",
            "3068    1.396224e+09\n",
            "1921    1.495325e+09\n",
            "            ...     \n",
            "554     1.613434e+09\n",
            "1740    1.510963e+09\n",
            "877     1.585526e+09\n",
            "212     1.642982e+09\n",
            "737     1.597622e+09\n",
            "Name: date, Length: 341, dtype: float64\n",
            "341\n",
            "___________________\n",
            "[[0.5015708  0.55183425 0.54610149 0.4903625 ]\n",
            " [0.13510536 0.13436707 0.1330607  0.13600396]\n",
            " [0.17612252 0.17473756 0.17311919 0.17558546]\n",
            " ...\n",
            " [0.086795   0.09424536 0.09375869 0.08802795]\n",
            " [0.53655257 0.54202616 0.5409725  0.49940084]\n",
            " [0.17526581 0.18053718 0.17877442 0.1770474 ]]\n",
            "341\n"
          ]
        }
      ]
    },
    {
      "cell_type": "code",
      "source": [
        "# Importing Tensorflow\n",
        "import tensorflow as tf\n",
        "from tensorflow.keras.models import Sequential\n",
        "from tensorflow.keras.layers import Dense, Dropout\n",
        "from tensorflow.keras.layers import LSTM"
      ],
      "metadata": {
        "id": "BiRGDnjFnpGg"
      },
      "execution_count": null,
      "outputs": []
    },
    {
      "cell_type": "code",
      "source": [
        "model=Sequential()\n",
        "model.add(LSTM(50,return_sequences=True,input_shape=(1,1)))\n",
        "model.add(LSTM(50,return_sequences=True))\n",
        "model.add(LSTM(50))\n",
        "model.add(Dense(4))\n",
        "model.compile(loss='mean_squared_error', optimizer='adam')"
      ],
      "metadata": {
        "id": "bxhnCTf9rJl8"
      },
      "execution_count": null,
      "outputs": []
    },
    {
      "cell_type": "code",
      "source": [
        "x_train_shape = x_train.values.reshape(-1,1)\n",
        "y_train_shape = y_train.reshape(-1,4)\n",
        "print((x_train_shape.shape))\n",
        "print((y_train_shape.shape))\n",
        "\n",
        "x_test_shape = x_test.values.reshape(-1,1)\n",
        "y_test_shape = y_test.reshape(-1,4)\n",
        "print(x_test_shape.shape)\n",
        "print(y_test_shape.shape)\n",
        "print(x_test_shape)"
      ],
      "metadata": {
        "colab": {
          "base_uri": "https://localhost:8080/"
        },
        "id": "jPqhd20dyTmh",
        "outputId": "c3b7cbf9-5939-481d-9f67-f487253b859a"
      },
      "execution_count": null,
      "outputs": [
        {
          "output_type": "stream",
          "name": "stdout",
          "text": [
            "(3065, 1)\n",
            "(3065, 4)\n",
            "(341, 1)\n",
            "(341, 4)\n",
            "[[1.6104960e+09]\n",
            " [1.5934752e+09]\n",
            " [1.5653088e+09]\n",
            " [1.3962240e+09]\n",
            " [1.4953248e+09]\n",
            " [1.4163552e+09]\n",
            " [1.5793056e+09]\n",
            " [1.5857856e+09]\n",
            " [1.4119488e+09]\n",
            " [1.4018400e+09]\n",
            " [1.6304544e+09]\n",
            " [1.3788576e+09]\n",
            " [1.6014240e+09]\n",
            " [1.5505344e+09]\n",
            " [1.6292448e+09]\n",
            " [1.4118624e+09]\n",
            " [1.5416352e+09]\n",
            " [1.4863392e+09]\n",
            " [1.4625792e+09]\n",
            " [1.4434848e+09]\n",
            " [1.4100480e+09]\n",
            " [1.3959648e+09]\n",
            " [1.6142976e+09]\n",
            " [1.4494464e+09]\n",
            " [1.5223680e+09]\n",
            " [1.6007328e+09]\n",
            " [1.5647904e+09]\n",
            " [1.5166656e+09]\n",
            " [1.5015456e+09]\n",
            " [1.5064704e+09]\n",
            " [1.5337728e+09]\n",
            " [1.5775776e+09]\n",
            " [1.6337376e+09]\n",
            " [1.5081120e+09]\n",
            " [1.5247872e+09]\n",
            " [1.6412544e+09]\n",
            " [1.3918176e+09]\n",
            " [1.6236288e+09]\n",
            " [1.4300928e+09]\n",
            " [1.5675552e+09]\n",
            " [1.3786848e+09]\n",
            " [1.5203808e+09]\n",
            " [1.6482528e+09]\n",
            " [1.5002496e+09]\n",
            " [1.4549760e+09]\n",
            " [1.4133312e+09]\n",
            " [1.4637024e+09]\n",
            " [1.6380576e+09]\n",
            " [1.6149888e+09]\n",
            " [1.5992640e+09]\n",
            " [1.4015808e+09]\n",
            " [1.4990400e+09]\n",
            " [1.4301792e+09]\n",
            " [1.4603328e+09]\n",
            " [1.6315776e+09]\n",
            " [1.6473024e+09]\n",
            " [1.4217984e+09]\n",
            " [1.6023744e+09]\n",
            " [1.6128288e+09]\n",
            " [1.6405632e+09]\n",
            " [1.5856992e+09]\n",
            " [1.4707872e+09]\n",
            " [1.4389920e+09]\n",
            " [1.5682464e+09]\n",
            " [1.4373504e+09]\n",
            " [1.4268096e+09]\n",
            " [1.4694912e+09]\n",
            " [1.4567040e+09]\n",
            " [1.6465248e+09]\n",
            " [1.5433632e+09]\n",
            " [1.5929568e+09]\n",
            " [1.4051232e+09]\n",
            " [1.4277600e+09]\n",
            " [1.3806720e+09]\n",
            " [1.6098912e+09]\n",
            " [1.4808960e+09]\n",
            " [1.5643584e+09]\n",
            " [1.4166144e+09]\n",
            " [1.4452128e+09]\n",
            " [1.6445376e+09]\n",
            " [1.5806880e+09]\n",
            " [1.5145920e+09]\n",
            " [1.5375744e+09]\n",
            " [1.4295744e+09]\n",
            " [1.6161120e+09]\n",
            " [1.5508800e+09]\n",
            " [1.6602624e+09]\n",
            " [1.4893632e+09]\n",
            " [1.6423776e+09]\n",
            " [1.3846464e+09]\n",
            " [1.4297472e+09]\n",
            " [1.4094432e+09]\n",
            " [1.6464384e+09]\n",
            " [1.5641856e+09]\n",
            " [1.5288480e+09]\n",
            " [1.4410656e+09]\n",
            " [1.4545440e+09]\n",
            " [1.4890176e+09]\n",
            " [1.4631840e+09]\n",
            " [1.3983840e+09]\n",
            " [1.5673824e+09]\n",
            " [1.4581728e+09]\n",
            " [1.4598144e+09]\n",
            " [1.3937184e+09]\n",
            " [1.5045696e+09]\n",
            " [1.5621120e+09]\n",
            " [1.4618016e+09]\n",
            " [1.5517440e+09]\n",
            " [1.5038784e+09]\n",
            " [1.5468192e+09]\n",
            " [1.3875840e+09]\n",
            " [1.5998688e+09]\n",
            " [1.6478208e+09]\n",
            " [1.3992480e+09]\n",
            " [1.4935104e+09]\n",
            " [1.4759712e+09]\n",
            " [1.4401152e+09]\n",
            " [1.4972256e+09]\n",
            " [1.4222304e+09]\n",
            " [1.4087520e+09]\n",
            " [1.6181856e+09]\n",
            " [1.5614208e+09]\n",
            " [1.3865472e+09]\n",
            " [1.4818464e+09]\n",
            " [1.3977792e+09]\n",
            " [1.4026176e+09]\n",
            " [1.4040000e+09]\n",
            " [1.4673312e+09]\n",
            " [1.6110144e+09]\n",
            " [1.4591232e+09]\n",
            " [1.5920064e+09]\n",
            " [1.6372800e+09]\n",
            " [1.6090272e+09]\n",
            " [1.4820192e+09]\n",
            " [1.4805504e+09]\n",
            " [1.4459040e+09]\n",
            " [1.4430528e+09]\n",
            " [1.3747104e+09]\n",
            " [1.3890528e+09]\n",
            " [1.6609536e+09]\n",
            " [1.3837824e+09]\n",
            " [1.3722048e+09]\n",
            " [1.4931648e+09]\n",
            " [1.3713408e+09]\n",
            " [1.6467840e+09]\n",
            " [1.5116544e+09]\n",
            " [1.6589664e+09]\n",
            " [1.3904352e+09]\n",
            " [1.4964480e+09]\n",
            " [1.5221952e+09]\n",
            " [1.6595712e+09]\n",
            " [1.6439328e+09]\n",
            " [1.3963968e+09]\n",
            " [1.5501888e+09]\n",
            " [1.5828480e+09]\n",
            " [1.6510176e+09]\n",
            " [1.3867200e+09]\n",
            " [1.5104448e+09]\n",
            " [1.4279328e+09]\n",
            " [1.3844736e+09]\n",
            " [1.5053472e+09]\n",
            " [1.5761088e+09]\n",
            " [1.4574816e+09]\n",
            " [1.3676256e+09]\n",
            " [1.4717376e+09]\n",
            " [1.5677280e+09]\n",
            " [1.6454016e+09]\n",
            " [1.6145568e+09]\n",
            " [1.6406496e+09]\n",
            " [1.5908832e+09]\n",
            " [1.4802912e+09]\n",
            " [1.3866336e+09]\n",
            " [1.6374528e+09]\n",
            " [1.4389056e+09]\n",
            " [1.4745888e+09]\n",
            " [1.6271712e+09]\n",
            " [1.3879296e+09]\n",
            " [1.4236128e+09]\n",
            " [1.6217280e+09]\n",
            " [1.5350688e+09]\n",
            " [1.5818976e+09]\n",
            " [1.5475104e+09]\n",
            " [1.5678144e+09]\n",
            " [1.6408224e+09]\n",
            " [1.4929056e+09]\n",
            " [1.6291584e+09]\n",
            " [1.5610752e+09]\n",
            " [1.6338240e+09]\n",
            " [1.6409952e+09]\n",
            " [1.5293664e+09]\n",
            " [1.5178752e+09]\n",
            " [1.4240448e+09]\n",
            " [1.3948416e+09]\n",
            " [1.4560992e+09]\n",
            " [1.4655168e+09]\n",
            " [1.4103936e+09]\n",
            " [1.5459552e+09]\n",
            " [1.6477344e+09]\n",
            " [1.4164416e+09]\n",
            " [1.3778208e+09]\n",
            " [1.5181344e+09]\n",
            " [1.5110496e+09]\n",
            " [1.4628384e+09]\n",
            " [1.6190496e+09]\n",
            " [1.5622848e+09]\n",
            " [1.4926464e+09]\n",
            " [1.4951520e+09]\n",
            " [1.5963264e+09]\n",
            " [1.5571008e+09]\n",
            " [1.4385600e+09]\n",
            " [1.4815872e+09]\n",
            " [1.5054336e+09]\n",
            " [1.3828320e+09]\n",
            " [1.4407200e+09]\n",
            " [1.6138656e+09]\n",
            " [1.5072480e+09]\n",
            " [1.3805856e+09]\n",
            " [1.3683168e+09]\n",
            " [1.4323392e+09]\n",
            " [1.6546464e+09]\n",
            " [1.5177888e+09]\n",
            " [1.5215040e+09]\n",
            " [1.5412896e+09]\n",
            " [1.4070240e+09]\n",
            " [1.6044480e+09]\n",
            " [1.3814496e+09]\n",
            " [1.4845248e+09]\n",
            " [1.4701824e+09]\n",
            " [1.4508288e+09]\n",
            " [1.5316128e+09]\n",
            " [1.4120352e+09]\n",
            " [1.5242688e+09]\n",
            " [1.6533504e+09]\n",
            " [1.5083712e+09]\n",
            " [1.4352768e+09]\n",
            " [1.4865984e+09]\n",
            " [1.4321664e+09]\n",
            " [1.4719104e+09]\n",
            " [1.4677632e+09]\n",
            " [1.3724640e+09]\n",
            " [1.4441760e+09]\n",
            " [1.5474240e+09]\n",
            " [1.5989184e+09]\n",
            " [1.5309216e+09]\n",
            " [1.5541632e+09]\n",
            " [1.5957216e+09]\n",
            " [1.4873760e+09]\n",
            " [1.3951872e+09]\n",
            " [1.5567552e+09]\n",
            " [1.6248384e+09]\n",
            " [1.5948576e+09]\n",
            " [1.6136928e+09]\n",
            " [1.6550784e+09]\n",
            " [1.4524704e+09]\n",
            " [1.5666048e+09]\n",
            " [1.5615072e+09]\n",
            " [1.5139872e+09]\n",
            " [1.4616288e+09]\n",
            " [1.3709952e+09]\n",
            " [1.3899168e+09]\n",
            " [1.5206400e+09]\n",
            " [1.5584832e+09]\n",
            " [1.5645312e+09]\n",
            " [1.5029280e+09]\n",
            " [1.4404608e+09]\n",
            " [1.6571520e+09]\n",
            " [1.5634944e+09]\n",
            " [1.4089248e+09]\n",
            " [1.5024960e+09]\n",
            " [1.5286752e+09]\n",
            " [1.5492384e+09]\n",
            " [1.4881536e+09]\n",
            " [1.5158016e+09]\n",
            " [1.3686624e+09]\n",
            " [1.4065920e+09]\n",
            " [1.6479072e+09]\n",
            " [1.4092704e+09]\n",
            " [1.5943392e+09]\n",
            " [1.5155424e+09]\n",
            " [1.4750208e+09]\n",
            " [1.6154208e+09]\n",
            " [1.4640480e+09]\n",
            " [1.4716512e+09]\n",
            " [1.5586560e+09]\n",
            " [1.4457312e+09]\n",
            " [1.6054848e+09]\n",
            " [1.4440896e+09]\n",
            " [1.5036192e+09]\n",
            " [1.6407360e+09]\n",
            " [1.5958080e+09]\n",
            " [1.4471136e+09]\n",
            " [1.3989888e+09]\n",
            " [1.4227488e+09]\n",
            " [1.4313024e+09]\n",
            " [1.5062112e+09]\n",
            " [1.4599008e+09]\n",
            " [1.4217120e+09]\n",
            " [1.3737600e+09]\n",
            " [1.6469568e+09]\n",
            " [1.3794624e+09]\n",
            " [1.6496352e+09]\n",
            " [1.5780960e+09]\n",
            " [1.3931136e+09]\n",
            " [1.4770944e+09]\n",
            " [1.4994720e+09]\n",
            " [1.6130016e+09]\n",
            " [1.5649632e+09]\n",
            " [1.5243552e+09]\n",
            " [1.5608160e+09]\n",
            " [1.5728256e+09]\n",
            " [1.3871520e+09]\n",
            " [1.4220576e+09]\n",
            " [1.5894144e+09]\n",
            " [1.4161824e+09]\n",
            " [1.6403904e+09]\n",
            " [1.4067648e+09]\n",
            " [1.6244064e+09]\n",
            " [1.4896224e+09]\n",
            " [1.5850080e+09]\n",
            " [1.6444512e+09]\n",
            " [1.5927840e+09]\n",
            " [1.5949440e+09]\n",
            " [1.5669504e+09]\n",
            " [1.6219008e+09]\n",
            " [1.5785280e+09]\n",
            " [1.4487552e+09]\n",
            " [1.4259456e+09]\n",
            " [1.6240608e+09]\n",
            " [1.5756768e+09]\n",
            " [1.5564096e+09]\n",
            " [1.5405984e+09]\n",
            " [1.5585696e+09]\n",
            " [1.4902272e+09]\n",
            " [1.3781664e+09]\n",
            " [1.6526592e+09]\n",
            " [1.4132448e+09]\n",
            " [1.6134336e+09]\n",
            " [1.5109632e+09]\n",
            " [1.5855264e+09]\n",
            " [1.6429824e+09]\n",
            " [1.5976224e+09]]\n"
          ]
        }
      ]
    },
    {
      "cell_type": "code",
      "source": [
        "model.fit(x_train_shape, y_train_shape,validation_data=(x_test_shape,y_test_shape),epochs=10,batch_size=64,verbose=1)\n"
      ],
      "metadata": {
        "id": "9l4jDxv6rLjM",
        "colab": {
          "base_uri": "https://localhost:8080/"
        },
        "outputId": "be197e51-fbf6-4e20-d7b7-abbe1b8eecac"
      },
      "execution_count": null,
      "outputs": [
        {
          "output_type": "stream",
          "name": "stdout",
          "text": [
            "Epoch 1/10\n",
            "48/48 [==============================] - 3s 17ms/step - loss: 0.0546 - val_loss: 0.0567\n",
            "Epoch 2/10\n",
            "48/48 [==============================] - 1s 17ms/step - loss: 0.0546 - val_loss: 0.0567\n",
            "Epoch 3/10\n",
            "48/48 [==============================] - 1s 10ms/step - loss: 0.0546 - val_loss: 0.0567\n",
            "Epoch 4/10\n",
            "48/48 [==============================] - 1s 17ms/step - loss: 0.0546 - val_loss: 0.0567\n",
            "Epoch 5/10\n",
            "48/48 [==============================] - 1s 17ms/step - loss: 0.0546 - val_loss: 0.0567\n",
            "Epoch 6/10\n",
            "48/48 [==============================] - 1s 17ms/step - loss: 0.0546 - val_loss: 0.0567\n",
            "Epoch 7/10\n",
            "48/48 [==============================] - 1s 17ms/step - loss: 0.0546 - val_loss: 0.0567\n",
            "Epoch 8/10\n",
            "48/48 [==============================] - 1s 17ms/step - loss: 0.0546 - val_loss: 0.0567\n",
            "Epoch 9/10\n",
            "48/48 [==============================] - 1s 17ms/step - loss: 0.0546 - val_loss: 0.0567\n",
            "Epoch 10/10\n",
            "48/48 [==============================] - 1s 17ms/step - loss: 0.0546 - val_loss: 0.0567\n"
          ]
        },
        {
          "output_type": "execute_result",
          "data": {
            "text/plain": [
              "<keras.callbacks.History at 0x7f6ac229c750>"
            ]
          },
          "metadata": {},
          "execution_count": 277
        }
      ]
    },
    {
      "cell_type": "code",
      "source": [
        "# \t2022-08-24 00:00:00\t21526.455593085484\t21783.07572274634\t21195.006694910768\t21395.02007149252\t31962253368.02\t409308514098.09\t1661299200.0\n",
        "sample_num = 5\n",
        "x = x_train[sample_num].reshape(-1,1)\n",
        "print(x.shape)\n",
        "print(model.predict(x))\n",
        "print(y_train[sample_num])"
      ],
      "metadata": {
        "colab": {
          "base_uri": "https://localhost:8080/"
        },
        "id": "BOEDauthq3Yd",
        "outputId": "287c64b9-756c-479d-cc1d-3bd88e5e6d2e"
      },
      "execution_count": null,
      "outputs": [
        {
          "output_type": "stream",
          "name": "stdout",
          "text": [
            "(1, 1)\n",
            "[[0.15931763 0.15918918 0.16034676 0.15739986]]\n",
            "[0.00253922 0.00247114 0.00240941 0.00255182]\n"
          ]
        }
      ]
    },
    {
      "cell_type": "code",
      "source": [
        "ann = tf.keras.models.Sequential()\n",
        "ann.add(tf.keras.layers.Dense(units=6, activation='sigmoid'))\n",
        "ann.add(tf.keras.layers.Dense(units=6, activation='sigmoid'))\n",
        "ann.add(tf.keras.layers.Dense(units=4, activation='sigmoid'))\n",
        "ann.compile(optimizer = 'adam', loss = 'binary_crossentropy', metrics = ['accuracy'])"
      ],
      "metadata": {
        "id": "81nHmVB7v3c3"
      },
      "execution_count": null,
      "outputs": []
    },
    {
      "cell_type": "code",
      "source": [
        "ann.fit(x_train, y_train, batch_size = 32, epochs = 10)"
      ],
      "metadata": {
        "colab": {
          "base_uri": "https://localhost:8080/"
        },
        "id": "g_Q_27xIz8R0",
        "outputId": "b68df697-8eb2-4afc-85f9-963fb0188521"
      },
      "execution_count": null,
      "outputs": [
        {
          "output_type": "stream",
          "name": "stdout",
          "text": [
            "Epoch 1/10\n",
            "96/96 [==============================] - 0s 929us/step - loss: 0.6405 - accuracy: 0.2591\n",
            "Epoch 2/10\n",
            "96/96 [==============================] - 0s 1ms/step - loss: 0.5480 - accuracy: 0.2591\n",
            "Epoch 3/10\n",
            "96/96 [==============================] - 0s 991us/step - loss: 0.4970 - accuracy: 0.2591\n",
            "Epoch 4/10\n",
            "96/96 [==============================] - 0s 1ms/step - loss: 0.4688 - accuracy: 0.2591\n",
            "Epoch 5/10\n",
            "96/96 [==============================] - 0s 1ms/step - loss: 0.4535 - accuracy: 0.2591\n",
            "Epoch 6/10\n",
            "96/96 [==============================] - 0s 1ms/step - loss: 0.4454 - accuracy: 0.2591\n",
            "Epoch 7/10\n",
            "96/96 [==============================] - 0s 1ms/step - loss: 0.4411 - accuracy: 0.2591\n",
            "Epoch 8/10\n",
            "96/96 [==============================] - 0s 985us/step - loss: 0.4390 - accuracy: 0.2591\n",
            "Epoch 9/10\n",
            "96/96 [==============================] - 0s 943us/step - loss: 0.4378 - accuracy: 0.2591\n",
            "Epoch 10/10\n",
            "96/96 [==============================] - 0s 977us/step - loss: 0.4373 - accuracy: 0.2591\n"
          ]
        },
        {
          "output_type": "execute_result",
          "data": {
            "text/plain": [
              "<keras.callbacks.History at 0x7f6acb4c0410>"
            ]
          },
          "metadata": {},
          "execution_count": 227
        }
      ]
    },
    {
      "cell_type": "code",
      "source": [
        "# \t2022-08-24 00:00:00\t21526.455593085484\t21783.07572274634\t21195.006694910768\t21395.02007149252\t31962253368.02\t409308514098.09\t1661299200.0\n",
        "sample_num = 8\n",
        "x = x_train[sample_num].reshape(-1,1)\n",
        "print(x.shape)\n",
        "print(ann.predict(x))\n",
        "print(y_train[sample_num])"
      ],
      "metadata": {
        "colab": {
          "base_uri": "https://localhost:8080/"
        },
        "id": "1O6hKrC5zwg1",
        "outputId": "299ac9a1-8deb-455f-f6b6-c78b2cbcf39c"
      },
      "execution_count": null,
      "outputs": [
        {
          "output_type": "stream",
          "name": "stdout",
          "text": [
            "(1, 1)\n",
            "[[0.17632866 0.15786576 0.15833208 0.15465027]]\n",
            "[0.00408758 0.00417899 0.0041737  0.00412019]\n"
          ]
        }
      ]
    },
    {
      "cell_type": "code",
      "source": [
        "x_test"
      ],
      "metadata": {
        "colab": {
          "base_uri": "https://localhost:8080/"
        },
        "id": "oZHZyT0X0rnl",
        "outputId": "75627dfa-6d18-4f89-fa62-783072aa6261"
      },
      "execution_count": null,
      "outputs": [
        {
          "output_type": "execute_result",
          "data": {
            "text/plain": [
              "588     1.610496e+09\n",
              "785     1.593475e+09\n",
              "1111    1.565309e+09\n",
              "3068    1.396224e+09\n",
              "1921    1.495325e+09\n",
              "            ...     \n",
              "554     1.613434e+09\n",
              "1740    1.510963e+09\n",
              "877     1.585526e+09\n",
              "212     1.642982e+09\n",
              "737     1.597622e+09\n",
              "Name: date, Length: 341, dtype: float64"
            ]
          },
          "metadata": {},
          "execution_count": 222
        }
      ]
    },
    {
      "cell_type": "code",
      "source": [
        "x_train"
      ],
      "metadata": {
        "colab": {
          "base_uri": "https://localhost:8080/"
        },
        "id": "5Rmtu6JDz_5V",
        "outputId": "77b5ed23-feba-412c-ae64-390c5f5ffae6"
      },
      "execution_count": null,
      "outputs": [
        {
          "output_type": "execute_result",
          "data": {
            "text/plain": [
              "1871    1.499645e+09\n",
              "1226    1.555373e+09\n",
              "208     1.643328e+09\n",
              "3272    1.378598e+09\n",
              "1939    1.493770e+09\n",
              "            ...     \n",
              "694     1.601338e+09\n",
              "1486    1.532909e+09\n",
              "1884    1.498522e+09\n",
              "1920    1.495411e+09\n",
              "780     1.593907e+09\n",
              "Name: date, Length: 3065, dtype: float64"
            ]
          },
          "metadata": {},
          "execution_count": 246
        }
      ]
    },
    {
      "cell_type": "code",
      "source": [],
      "metadata": {
        "id": "MXIyXDhn2L9y"
      },
      "execution_count": null,
      "outputs": []
    }
  ]
}